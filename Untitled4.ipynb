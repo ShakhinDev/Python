{
 "cells": [
  {
   "cell_type": "code",
   "execution_count": null,
   "id": "f5f279c6",
   "metadata": {},
   "outputs": [],
   "source": [
    "print(\"Kiritilgan sonning kvadratini qaytaruvchi dastur.\")\n",
    "savol = \"Istalgan sonni kiriting \"\n",
    "savol+=\"(Dasturni to'xtashish ushun 'exit' deb yozing:\"\n",
    "qiymat = ''\n",
    "while qiymat != 'exit':\n",
    "    qiymat = input(savol)\n",
    "    if qiymat != 'exit':\n",
    "        print(float(qiymat)**2)\n",
    "        "
   ]
  },
  {
   "cell_type": "code",
   "execution_count": null,
   "id": "1617db64",
   "metadata": {},
   "outputs": [],
   "source": []
  }
 ],
 "metadata": {
  "kernelspec": {
   "display_name": "Python 3 (ipykernel)",
   "language": "python",
   "name": "python3"
  },
  "language_info": {
   "codemirror_mode": {
    "name": "ipython",
    "version": 3
   },
   "file_extension": ".py",
   "mimetype": "text/x-python",
   "name": "python",
   "nbconvert_exporter": "python",
   "pygments_lexer": "ipython3",
   "version": "3.9.12"
  }
 },
 "nbformat": 4,
 "nbformat_minor": 5
}
