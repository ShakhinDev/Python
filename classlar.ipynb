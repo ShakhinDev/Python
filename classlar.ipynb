{
 "cells": [
  {
   "cell_type": "code",
   "execution_count": 9,
   "id": "337496c6",
   "metadata": {},
   "outputs": [],
   "source": [
    "class Talaba:\n",
    "    def __init__(self,ism,familiya,tyil):\n",
    "        self.ism=ism\n",
    "        self.familiya=familiya\n",
    "        self.tyil=tyil\n",
    "        self.bosqich= 1\n",
    "\n",
    "    "
   ]
  },
  {
   "cell_type": "code",
   "execution_count": 26,
   "id": "9ac9b9b4",
   "metadata": {},
   "outputs": [],
   "source": [
    "talaba1=Talaba('Shahriddin','Qoraxonov',1997)"
   ]
  },
  {
   "cell_type": "code",
   "execution_count": 27,
   "id": "0f89a04e",
   "metadata": {},
   "outputs": [
    {
     "data": {
      "text/plain": [
       "'Shahriddin'"
      ]
     },
     "execution_count": 27,
     "metadata": {},
     "output_type": "execute_result"
    }
   ],
   "source": [
    "talaba1.ism"
   ]
  },
  {
   "cell_type": "code",
   "execution_count": 28,
   "id": "453e4105",
   "metadata": {},
   "outputs": [
    {
     "data": {
      "text/plain": [
       "'Qoraxonov'"
      ]
     },
     "execution_count": 28,
     "metadata": {},
     "output_type": "execute_result"
    }
   ],
   "source": [
    "talaba1.familiya"
   ]
  },
  {
   "cell_type": "code",
   "execution_count": 58,
   "id": "1673764a",
   "metadata": {},
   "outputs": [],
   "source": [
    "class Fan:\n",
    "    def __init__(self,nomi):\n",
    "        self.nomi=nomi\n",
    "        self.talabalar_soni=0\n",
    "        self.talabalar= []\n",
    "    def add_student(self, talaba):\n",
    "        \"\"\"Fanga talaba qo'shish\"\"\"\n",
    "        self.talabalar.append(talaba)\n",
    "        self.talabalar_soni +=1   \n",
    "    def get_name(self):\n",
    "        return self.nomi\n",
    "    def get_students(self):\n",
    "        \"\"\"fanga yozilgan talabalar haqida malumot beradi\"\"\"\n",
    "        return [talaba.get_fullname() for talaba in self.talabalar]\n",
    "    def get_student_num(self):\n",
    "        return self.talabalar_soni\n",
    "    \n",
    "        \n",
    "        \n",
    "    "
   ]
  },
  {
   "cell_type": "code",
   "execution_count": 61,
   "id": "c447b145",
   "metadata": {},
   "outputs": [
    {
     "data": {
      "text/plain": [
       "'Oliy Matematika'"
      ]
     },
     "execution_count": 61,
     "metadata": {},
     "output_type": "execute_result"
    }
   ],
   "source": [
    "matem=Fan('Oliy Matematika') # biror bir xususiyatni ozgartirish kerak bolsa set_ deb boshlash kerak ko'rish uchun esa get_\n",
    "matem.nomi"
   ]
  },
  {
   "cell_type": "code",
   "execution_count": 62,
   "id": "1794934b",
   "metadata": {},
   "outputs": [],
   "source": [
    "matem.add_student(talaba1)"
   ]
  },
  {
   "cell_type": "code",
   "execution_count": 63,
   "id": "3270a1b5",
   "metadata": {},
   "outputs": [
    {
     "data": {
      "text/plain": [
       "1"
      ]
     },
     "execution_count": 63,
     "metadata": {},
     "output_type": "execute_result"
    }
   ],
   "source": [
    "matem.talabalar_soni"
   ]
  },
  {
   "cell_type": "code",
   "execution_count": 64,
   "id": "aefd2d78",
   "metadata": {},
   "outputs": [],
   "source": [
    "talaba2=Talaba(\"Rustam\", \"Adhamov\",1997)"
   ]
  },
  {
   "cell_type": "code",
   "execution_count": 65,
   "id": "9e8a67a1",
   "metadata": {},
   "outputs": [],
   "source": [
    "matem.add_student(talaba2)"
   ]
  },
  {
   "cell_type": "code",
   "execution_count": 66,
   "id": "0deb85ac",
   "metadata": {},
   "outputs": [
    {
     "data": {
      "text/plain": [
       "2"
      ]
     },
     "execution_count": 66,
     "metadata": {},
     "output_type": "execute_result"
    }
   ],
   "source": [
    "matem.talabalar_soni"
   ]
  },
  {
   "cell_type": "code",
   "execution_count": 67,
   "id": "4c9876b7",
   "metadata": {},
   "outputs": [
    {
     "data": {
      "text/plain": [
       "[<__main__.Talaba at 0x163646d8eb0>, <__main__.Talaba at 0x16364749040>]"
      ]
     },
     "execution_count": 67,
     "metadata": {},
     "output_type": "execute_result"
    }
   ],
   "source": [
    "matem.talabalar"
   ]
  },
  {
   "cell_type": "code",
   "execution_count": 68,
   "id": "914020f5",
   "metadata": {},
   "outputs": [],
   "source": [
    "talaba3=Talaba(\"Shahin\",\"Qoraxonli\",1997)\n"
   ]
  },
  {
   "cell_type": "code",
   "execution_count": 69,
   "id": "a788eb24",
   "metadata": {},
   "outputs": [],
   "source": [
    "matem.add_student(talaba3)"
   ]
  },
  {
   "cell_type": "code",
   "execution_count": 70,
   "id": "25f1b3b5",
   "metadata": {},
   "outputs": [
    {
     "data": {
      "text/plain": [
       "3"
      ]
     },
     "execution_count": 70,
     "metadata": {},
     "output_type": "execute_result"
    }
   ],
   "source": [
    "matem.talabalar_soni"
   ]
  },
  {
   "cell_type": "code",
   "execution_count": 71,
   "id": "c042f05f",
   "metadata": {},
   "outputs": [
    {
     "data": {
      "text/plain": [
       "[<__main__.Talaba at 0x163646d8eb0>,\n",
       " <__main__.Talaba at 0x16364749040>,\n",
       " <__main__.Talaba at 0x1636474f580>]"
      ]
     },
     "execution_count": 71,
     "metadata": {},
     "output_type": "execute_result"
    }
   ],
   "source": [
    "matem.talabalar"
   ]
  },
  {
   "cell_type": "code",
   "execution_count": 72,
   "id": "a3ba5188",
   "metadata": {},
   "outputs": [
    {
     "ename": "AttributeError",
     "evalue": "'Fan' object has no attribute 'get_student'",
     "output_type": "error",
     "traceback": [
      "\u001b[1;31m---------------------------------------------------------------------------\u001b[0m",
      "\u001b[1;31mAttributeError\u001b[0m                            Traceback (most recent call last)",
      "Input \u001b[1;32mIn [72]\u001b[0m, in \u001b[0;36m<cell line: 1>\u001b[1;34m()\u001b[0m\n\u001b[1;32m----> 1\u001b[0m \u001b[43mmatem\u001b[49m\u001b[38;5;241;43m.\u001b[39;49m\u001b[43mget_student\u001b[49m\n",
      "\u001b[1;31mAttributeError\u001b[0m: 'Fan' object has no attribute 'get_student'"
     ]
    }
   ],
   "source": [
    "matem.get_student"
   ]
  },
  {
   "cell_type": "code",
   "execution_count": 76,
   "id": "64f6aaa3",
   "metadata": {},
   "outputs": [
    {
     "ename": "SyntaxError",
     "evalue": "invalid syntax (3769846721.py, line 1)",
     "output_type": "error",
     "traceback": [
      "\u001b[1;36m  Input \u001b[1;32mIn [76]\u001b[1;36m\u001b[0m\n\u001b[1;33m    c=5..5\u001b[0m\n\u001b[1;37m        ^\u001b[0m\n\u001b[1;31mSyntaxError\u001b[0m\u001b[1;31m:\u001b[0m invalid syntax\n"
     ]
    }
   ],
   "source": [
    "c=5..5"
   ]
  },
  {
   "cell_type": "code",
   "execution_count": 77,
   "id": "436d382a",
   "metadata": {},
   "outputs": [],
   "source": [
    "a=5\n",
    "b=5\n",
    "d=a+b"
   ]
  },
  {
   "cell_type": "code",
   "execution_count": 78,
   "id": "6ea791d5",
   "metadata": {},
   "outputs": [
    {
     "data": {
      "text/plain": [
       "'ac'"
      ]
     },
     "execution_count": 78,
     "metadata": {},
     "output_type": "execute_result"
    }
   ],
   "source": [
    "d"
   ]
  },
  {
   "cell_type": "code",
   "execution_count": 83,
   "id": "6e91394b",
   "metadata": {},
   "outputs": [
    {
     "ename": "TypeError",
     "evalue": "unsupported operand type(s) for //: 'str' and 'str'",
     "output_type": "error",
     "traceback": [
      "\u001b[1;31m---------------------------------------------------------------------------\u001b[0m",
      "\u001b[1;31mTypeError\u001b[0m                                 Traceback (most recent call last)",
      "Input \u001b[1;32mIn [83]\u001b[0m, in \u001b[0;36m<cell line: 1>\u001b[1;34m()\u001b[0m\n\u001b[1;32m----> 1\u001b[0m c\u001b[38;5;241m=\u001b[39m\u001b[43ma\u001b[49m\u001b[38;5;241;43m/\u001b[39;49m\u001b[38;5;241;43m/\u001b[39;49m\u001b[43mb\u001b[49m\n",
      "\u001b[1;31mTypeError\u001b[0m: unsupported operand type(s) for //: 'str' and 'str'"
     ]
    }
   ],
   "source": [
    "c=a//b"
   ]
  },
  {
   "cell_type": "code",
   "execution_count": 84,
   "id": "4242eb12",
   "metadata": {},
   "outputs": [
    {
     "ename": "AttributeError",
     "evalue": "'str' object has no attribute 'mod'",
     "output_type": "error",
     "traceback": [
      "\u001b[1;31m---------------------------------------------------------------------------\u001b[0m",
      "\u001b[1;31mAttributeError\u001b[0m                            Traceback (most recent call last)",
      "Input \u001b[1;32mIn [84]\u001b[0m, in \u001b[0;36m<cell line: 1>\u001b[1;34m()\u001b[0m\n\u001b[1;32m----> 1\u001b[0m c\u001b[38;5;241m=\u001b[39m\u001b[43ma\u001b[49m\u001b[38;5;241;43m.\u001b[39;49m\u001b[43mmod\u001b[49m(b)\n",
      "\u001b[1;31mAttributeError\u001b[0m: 'str' object has no attribute 'mod'"
     ]
    }
   ],
   "source": [
    "c=a.mod(b)"
   ]
  },
  {
   "cell_type": "code",
   "execution_count": null,
   "id": "a88216df",
   "metadata": {},
   "outputs": [],
   "source": []
  }
 ],
 "metadata": {
  "kernelspec": {
   "display_name": "Python 3 (ipykernel)",
   "language": "python",
   "name": "python3"
  },
  "language_info": {
   "codemirror_mode": {
    "name": "ipython",
    "version": 3
   },
   "file_extension": ".py",
   "mimetype": "text/x-python",
   "name": "python",
   "nbconvert_exporter": "python",
   "pygments_lexer": "ipython3",
   "version": "3.9.12"
  }
 },
 "nbformat": 4,
 "nbformat_minor": 5
}
