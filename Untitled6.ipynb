{
 "cells": [
  {
   "cell_type": "markdown",
   "id": "ca859ad3",
   "metadata": {},
   "source": [
    "import numpy as np\n",
    "print(\"Men 1 dan 10 gacha sonlar orasida bir son oyladim, qaysi sonni oylaganimni predict qilib qoring\")\n",
    "\n",
    "while number!=predict:\n",
    "    number=np.random.randint(0,10)\n",
    "    predict=input(\"1 dan 10 gacha bolgan son ayting \")\n",
    "    if predict==number:\n",
    "        print(f\"topdingiz, men oylagan son {number} edi\")\n",
    "        break\n",
    "    else:\n",
    "        print (f\"afsusku topolmadingiz, men oylagan son {number} edi, yana bir marta urinib koring\")\n"
   ]
  },
  {
   "cell_type": "code",
   "execution_count": 64,
   "id": "fd138327",
   "metadata": {},
   "outputs": [
    {
     "name": "stdout",
     "output_type": "stream",
     "text": [
      "Men 1 dan 10 gacha sonlar orasida bir son oyladim, qaysi sonni oylaganimni predict qilib qoring\n",
      "1 dan 10 gacha bolgan son ayting 4\n",
      "afsusku topolmadingiz, men oylagan son 7 edi, yana bir marta urinib koring\n",
      "1 dan 10 gacha bolgan son ayting 5\n",
      "afsusku topolmadingiz, men oylagan son 8 edi, yana bir marta urinib koring\n",
      "1 dan 10 gacha bolgan son ayting 4\n",
      "afsusku topolmadingiz, men oylagan son 1 edi, yana bir marta urinib koring\n",
      "1 dan 10 gacha bolgan son ayting 4\n",
      "afsusku topolmadingiz, men oylagan son 1 edi, yana bir marta urinib koring\n",
      "1 dan 10 gacha bolgan son ayting 4\n",
      "afsusku topolmadingiz, men oylagan son 8 edi, yana bir marta urinib koring\n",
      "1 dan 10 gacha bolgan son ayting 4\n",
      "afsusku topolmadingiz, men oylagan son 7 edi, yana bir marta urinib koring\n",
      "1 dan 10 gacha bolgan son ayting 4\n",
      "afsusku topolmadingiz, men oylagan son 0 edi, yana bir marta urinib koring\n",
      "1 dan 10 gacha bolgan son ayting 4\n",
      "afsusku topolmadingiz, men oylagan son 2 edi, yana bir marta urinib koring\n",
      "1 dan 10 gacha bolgan son ayting 4\n",
      "afsusku topolmadingiz, men oylagan son 2 edi, yana bir marta urinib koring\n",
      "1 dan 10 gacha bolgan son ayting 4\n",
      "afsusku topolmadingiz, men oylagan son 8 edi, yana bir marta urinib koring\n",
      "1 dan 10 gacha bolgan son ayting 4\n",
      "afsusku topolmadingiz, men oylagan son 7 edi, yana bir marta urinib koring\n",
      "1 dan 10 gacha bolgan son ayting 4\n",
      "afsusku topolmadingiz, men oylagan son 8 edi, yana bir marta urinib koring\n",
      "1 dan 10 gacha bolgan son ayting 4\n",
      "afsusku topolmadingiz, men oylagan son 8 edi, yana bir marta urinib koring\n",
      "1 dan 10 gacha bolgan son ayting 4\n",
      "afsusku topolmadingiz, men oylagan son 6 edi, yana bir marta urinib koring\n",
      "1 dan 10 gacha bolgan son ayting 4\n",
      "afsusku topolmadingiz, men oylagan son 8 edi, yana bir marta urinib koring\n",
      "1 dan 10 gacha bolgan son ayting 4\n",
      "afsusku topolmadingiz, men oylagan son 1 edi, yana bir marta urinib koring\n",
      "1 dan 10 gacha bolgan son ayting 4\n",
      "afsusku topolmadingiz, men oylagan son 8 edi, yana bir marta urinib koring\n",
      "1 dan 10 gacha bolgan son ayting 4\n",
      "afsusku topolmadingiz, men oylagan son 2 edi, yana bir marta urinib koring\n",
      "1 dan 10 gacha bolgan son ayting 8\n",
      "afsusku topolmadingiz, men oylagan son 5 edi, yana bir marta urinib koring\n",
      "1 dan 10 gacha bolgan son ayting 8\n",
      "topdingiz, men oylagan son 8 edi\n"
     ]
    }
   ],
   "source": [
    "import numpy as np \n",
    "print(\"Men 1 dan 10 gacha sonlar orasida bir son oyladim, qaysi sonni oylaganimni predict qilib qoring\")\n",
    "\n",
    "while number!=predict:\n",
    "    predict=int(input(\"1 dan 10 gacha bolgan son ayting \"))\n",
    "    number=np.random.randint(0,10)\n",
    "    if predict==number:\n",
    "        print(f\"topdingiz, men oylagan son {number} edi\")\n",
    "        break\n",
    "    else: \n",
    "        print (f\"afsusku topolmadingiz, men oylagan son {number} edi, yana bir marta urinib koring\")\n",
    "        "
   ]
  }
 ],
 "metadata": {
  "kernelspec": {
   "display_name": "Python 3 (ipykernel)",
   "language": "python",
   "name": "python3"
  },
  "language_info": {
   "codemirror_mode": {
    "name": "ipython",
    "version": 3
   },
   "file_extension": ".py",
   "mimetype": "text/x-python",
   "name": "python",
   "nbconvert_exporter": "python",
   "pygments_lexer": "ipython3",
   "version": "3.9.12"
  }
 },
 "nbformat": 4,
 "nbformat_minor": 5
}
