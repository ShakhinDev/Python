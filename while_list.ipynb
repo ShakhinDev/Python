{
 "cells": [
  {
   "cell_type": "code",
   "execution_count": 3,
   "id": "fd951ce0",
   "metadata": {},
   "outputs": [
    {
     "name": "stdout",
     "output_type": "stream",
     "text": [
      "Yaqin do'stlar ro'yhatini tuzamiz\n",
      "1-do'stingizni ismini kiriting: rustam\n",
      "Yana ism qo'shasizmi? (ha/yo'q)ha\n",
      "2-do'stingizni ismini kiriting: sardor\n",
      "Yana ism qo'shasizmi? (ha/yo'q)ha\n",
      "3-do'stingizni ismini kiriting: doston\n",
      "Yana ism qo'shasizmi? (ha/yo'q)yo'q\n",
      "Do'stlaringiz ro'yhati: \n",
      "Rustam\n",
      "Sardor\n",
      "Doston\n"
     ]
    }
   ],
   "source": [
    "print(\"Yaqin do'stlar ro'yhatini tuzamiz\")\n",
    "ismlar =[]\n",
    "n=1\n",
    "while True:\n",
    "    savol = f\"{n}-do'stingizni ismini kiriting: \"\n",
    "    ism = input(savol)\n",
    "    ismlar.append(ism)\n",
    "    takrorlash = input(\"Yana ism qo'shasizmi? (ha/yo'q)\")\n",
    "    n+=1\n",
    "    if takrorlash !=\"ha\":\n",
    "        break\n",
    "print(\"Do'stlaringiz ro'yhati: \")\n",
    "for ism in ismlar:\n",
    "    print(ism.title())"
   ]
  },
  {
   "cell_type": "code",
   "execution_count": 4,
   "id": "2680b86e",
   "metadata": {},
   "outputs": [
    {
     "name": "stdout",
     "output_type": "stream",
     "text": [
      "Do'stlaringiz yoshini saqlaymiz: \n",
      "Do'stingizni ismini kiritng: rustam\n",
      "Rustamning yoshini kiriting: 25\n",
      "Yana ma'lumot qo'shasizmi? (ha/yo'q)ha\n",
      "Do'stingizni ismini kiritng: doston\n",
      "Dostonning yoshini kiriting: 25\n",
      "Yana ma'lumot qo'shasizmi? (ha/yo'q)ha\n",
      "Do'stingizni ismini kiritng: sardro\n",
      "Sardroning yoshini kiriting: 25\n",
      "Yana ma'lumot qo'shasizmi? (ha/yo'q)ha\n",
      "Do'stingizni ismini kiritng: lochin\n",
      "Lochinning yoshini kiriting: 28\n",
      "Yana ma'lumot qo'shasizmi? (ha/yo'q)yo'q\n",
      "Rustam 25 yoshda\n",
      "Doston 25 yoshda\n",
      "Sardro 25 yoshda\n",
      "Lochin 28 yoshda\n"
     ]
    }
   ],
   "source": [
    "print(\"Do'stlaringiz yoshini saqlaymiz: \")\n",
    "dostlar ={}\n",
    "ishora = True\n",
    "while ishora:\n",
    "    ism= input(\"Do'stingizni ismini kiritng: \")\n",
    "    yosh = input(f\"{ism.title()}ning yoshini kiriting: \")\n",
    "    dostlar[ism]= int(yosh)\n",
    "    \n",
    "    javob = input(\"Yana ma'lumot qo'shasizmi? (ha/yo'q)\")\n",
    "    if javob == \"yo'q\":\n",
    "        ishora = False\n",
    "for ism , yosh in dostlar.items():\n",
    "    print(f\"{ism.title()} {yosh} yoshda\")"
   ]
  },
  {
   "cell_type": "code",
   "execution_count": 7,
   "id": "00a1d22b",
   "metadata": {},
   "outputs": [
    {
     "name": "stdout",
     "output_type": "stream",
     "text": [
      "Ilhomning bahosini kiriting: 2\n",
      "Ilhom baholandi! \n",
      "Olimning bahosini kiriting: 2\n",
      "Olim baholandi! \n",
      "Sardorning bahosini kiriting: 5\n",
      "Sardor baholandi! \n",
      "Davronning bahosini kiriting: 3\n",
      "Davron baholandi! \n",
      "Shahriddinning bahosini kiriting: 4\n",
      "Shahriddin baholandi! \n",
      "Madinaning bahosini kiriting: 5\n",
      "Madina baholandi! \n",
      "Feruzaning bahosini kiriting: 4\n",
      "Feruza baholandi! \n",
      "Ilyosning bahosini kiriting: 4\n",
      "Ilyos baholandi! \n",
      "Lochinning bahosini kiriting: 3\n",
      "Lochin baholandi! \n",
      "Rustamning bahosini kiriting: 5\n",
      "Rustam baholandi! \n"
     ]
    }
   ],
   "source": [
    "talabalar = ['Rustam','Lochin','Ilyos','Feruza', 'Madina', 'Shahriddin', 'Davron', 'Sardor','Olim','Ilhom']\n",
    "baholangan_talabalar = {}\n",
    "while talabalar:\n",
    "    talaba = talabalar.pop()\n",
    "    baho = input(f\"{talaba.title()}ning bahosini kiriting: \")\n",
    "    print(f\"{talaba.title()} baholandi! \")\n",
    "    baholangan_talabalar[talaba] = int(baho)"
   ]
  },
  {
   "cell_type": "code",
   "execution_count": 9,
   "id": "36484143",
   "metadata": {},
   "outputs": [
    {
     "name": "stdout",
     "output_type": "stream",
     "text": [
      "Mahsulotlar ro'yhatini tuzamiz: \n",
      "Savatga mahsulotingiz qo'shing!: Olma\n",
      "Yana mahsulot qo'shasizmi. (ha/yo'q): ha\n",
      "Savatga mahsulotingiz qo'shing!: anjir\n",
      "Yana mahsulot qo'shasizmi. (ha/yo'q): yo'q\n"
     ]
    }
   ],
   "source": [
    "print(\"Mahsulotlar ro'yhatini tuzamiz: \")\n",
    "savat = []\n",
    "while True:\n",
    "    tovar = input(\"Savatga mahsulotingiz qo'shing!: \")\n",
    "    savat.append(tovar)\n",
    "    javob = input(\"Yana mahsulot qo'shasizmi. (ha/yo'q): \")\n",
    "    if javob != 'ha':\n",
    "        break\n",
    "    \n"
   ]
  },
  {
   "cell_type": "code",
   "execution_count": 10,
   "id": "367bc559",
   "metadata": {},
   "outputs": [
    {
     "name": "stdout",
     "output_type": "stream",
     "text": [
      "Bizda qovun yo'q\n",
      "Uzum - 22000 so'm\n",
      "Bizda anjir yo'q\n",
      "Olma - 20000 so'm\n"
     ]
    }
   ],
   "source": [
    "buyurtmalar = ['olma','anjir','uzum','qovun']\n",
    "mahsulotlar = {'olma':20000,\n",
    "               'shaftoli':25000,\n",
    "               'tarvuz':18000,\n",
    "               'uzum':22000}\n",
    "\n",
    "while buyurtmalar:\n",
    "    buyurtma = buyurtmalar.pop()\n",
    "    if buyurtma in mahsulotlar.keys():\n",
    "        narh = mahsulotlar[buyurtma]\n",
    "        print(f\"{buyurtma.title()} - {narh} so'm\")\n",
    "    else:\n",
    "        print(f\"Bizda {buyurtma} yo'q\")"
   ]
  },
  {
   "cell_type": "code",
   "execution_count": null,
   "id": "409e5e2d",
   "metadata": {},
   "outputs": [],
   "source": []
  }
 ],
 "metadata": {
  "kernelspec": {
   "display_name": "Python 3 (ipykernel)",
   "language": "python",
   "name": "python3"
  },
  "language_info": {
   "codemirror_mode": {
    "name": "ipython",
    "version": 3
   },
   "file_extension": ".py",
   "mimetype": "text/x-python",
   "name": "python",
   "nbconvert_exporter": "python",
   "pygments_lexer": "ipython3",
   "version": "3.9.12"
  }
 },
 "nbformat": 4,
 "nbformat_minor": 5
}
