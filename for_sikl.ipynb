{
 "cells": [
  {
   "cell_type": "code",
   "execution_count": 5,
   "id": "6b79b561",
   "metadata": {},
   "outputs": [
    {
     "name": "stdout",
     "output_type": "stream",
     "text": [
      "Assalom alekum Hurmatli Shahriddin, sizni 3-oktabr kungi bayramga taklif qilamiz\n",
      "Xurmat bilan Shakhriddin Korakhanov\n",
      "Assalom alekum Hurmatli Doston, sizni 3-oktabr kungi bayramga taklif qilamiz\n",
      "Xurmat bilan Shakhriddin Korakhanov\n",
      "Assalom alekum Hurmatli Sardor, sizni 3-oktabr kungi bayramga taklif qilamiz\n",
      "Xurmat bilan Shakhriddin Korakhanov\n",
      "Assalom alekum Hurmatli Aminbek, sizni 3-oktabr kungi bayramga taklif qilamiz\n",
      "Xurmat bilan Shakhriddin Korakhanov\n",
      "Assalom alekum Hurmatli Elyor, sizni 3-oktabr kungi bayramga taklif qilamiz\n",
      "Xurmat bilan Shakhriddin Korakhanov\n",
      "Assalom alekum Hurmatli Farruh, sizni 3-oktabr kungi bayramga taklif qilamiz\n",
      "Xurmat bilan Shakhriddin Korakhanov\n",
      "Assalom alekum Hurmatli Shahzod, sizni 3-oktabr kungi bayramga taklif qilamiz\n",
      "Xurmat bilan Shakhriddin Korakhanov\n",
      "Assalom alekum Hurmatli Xojiakbar, sizni 3-oktabr kungi bayramga taklif qilamiz\n",
      "Xurmat bilan Shakhriddin Korakhanov\n",
      "Assalom alekum Hurmatli Xumoyun, sizni 3-oktabr kungi bayramga taklif qilamiz\n",
      "Xurmat bilan Shakhriddin Korakhanov\n"
     ]
    }
   ],
   "source": [
    "mehmonlar = ['Shahriddin','Doston', 'Sardor', 'Aminbek', 'Elyor', 'Farruh', 'Shahzod', 'Xojiakbar', 'Xumoyun' ]\n",
    "for mehmon in mehmonlar:\n",
    "    print(f\"Assalom alekum Hurmatli {mehmon}, sizni 3-oktabr kungi bayramga taklif qilamiz\")\n",
    "    print('Xurmat bilan Shakhriddin Korakhanov')\n",
    "    "
   ]
  },
  {
   "cell_type": "code",
   "execution_count": 8,
   "id": "7657d51c",
   "metadata": {},
   "outputs": [
    {
     "name": "stdout",
     "output_type": "stream",
     "text": [
      "1 ning kvadrati =  1 ga teng bo'ladi   \n",
      "2 ning kvadrati =  4 ga teng bo'ladi   \n",
      "3 ning kvadrati =  9 ga teng bo'ladi   \n",
      "4 ning kvadrati =  16 ga teng bo'ladi   \n",
      "5 ning kvadrati =  25 ga teng bo'ladi   \n",
      "6 ning kvadrati =  36 ga teng bo'ladi   \n",
      "7 ning kvadrati =  49 ga teng bo'ladi   \n",
      "8 ning kvadrati =  64 ga teng bo'ladi   \n",
      "9 ning kvadrati =  81 ga teng bo'ladi   \n",
      "10 ning kvadrati =  100 ga teng bo'ladi   \n"
     ]
    }
   ],
   "source": [
    "sonlar = list(range(1,11))\n",
    "for son in sonlar:\n",
    "    print(f\"{son} ning kvadrati =  {son**2} ga teng bo'ladi   \")"
   ]
  },
  {
   "cell_type": "raw",
   "id": "ff7fc624",
   "metadata": {},
   "source": []
  },
  {
   "cell_type": "code",
   "execution_count": 13,
   "id": "f5399269",
   "metadata": {},
   "outputs": [
    {
     "name": "stdout",
     "output_type": "stream",
     "text": [
      "[1, 2, 3, 4, 5, 6, 7, 8, 9, 10]\n",
      "[1, 4, 9, 16, 25, 36, 49, 64, 81, 100]\n"
     ]
    }
   ],
   "source": [
    "sonlar_kvadrati = []\n",
    "for son in sonlar:\n",
    "    sonlar_kvadrati.append(son**2)\n",
    "print(sonlar)\n",
    "print(sonlar_kvadrati)\n"
   ]
  },
  {
   "cell_type": "code",
   "execution_count": 14,
   "id": "57e2cd1f",
   "metadata": {},
   "outputs": [
    {
     "name": "stdout",
     "output_type": "stream",
     "text": [
      "5 ta eng yaqin do'stingizni kiriting\n",
      "1- do'stingizni ismini kiriting: Sardor\n",
      "2- do'stingizni ismini kiriting: Doston\n",
      "3- do'stingizni ismini kiriting: Elyor\n",
      "4- do'stingizni ismini kiriting: Amin\n",
      "5- do'stingizni ismini kiriting: Po'lat\n",
      "['Sardor', 'Doston', 'Elyor', 'Amin', \"Po'lat\"]\n"
     ]
    }
   ],
   "source": [
    "dostlar = []\n",
    "print(\"5 ta eng yaqin do'stingizni kiriting\")\n",
    "for n in range(5):\n",
    "    dostlar.append(input(f\"{n+1}- do'stingizni ismini kiriting: \"))\n",
    "print(dostlar)    \n",
    "    "
   ]
  },
  {
   "cell_type": "code",
   "execution_count": 16,
   "id": "bd2bccad",
   "metadata": {},
   "outputs": [
    {
     "name": "stdout",
     "output_type": "stream",
     "text": [
      "Kep qoling bugun kartoshkaning narxi juda arzon bo'lib ketdi\n",
      "Kep qoling bugun sabzining narxi juda arzon bo'lib ketdi\n",
      "Kep qoling bugun bodringning narxi juda arzon bo'lib ketdi\n",
      "Kep qoling bugun pomidorning narxi juda arzon bo'lib ketdi\n",
      "Kep qoling bugun lavlagining narxi juda arzon bo'lib ketdi\n"
     ]
    }
   ],
   "source": [
    "sabzavotlar = ['kartoshka','sabzi','bodring','pomidor','lavlagi']\n",
    "for sab in sabzavotlar:\n",
    "    print(f\"Kep qoling bugun {sab}ning narxi juda arzon bo'lib ketdi\")"
   ]
  },
  {
   "cell_type": "code",
   "execution_count": 18,
   "id": "8f2c9d4e",
   "metadata": {},
   "outputs": [
    {
     "name": "stdout",
     "output_type": "stream",
     "text": [
      "Kod 1 marta takrorlandi\n",
      "Kod 2 marta takrorlandi\n",
      "Kod 3 marta takrorlandi\n",
      "Kod 4 marta takrorlandi\n",
      "Kod 5 marta takrorlandi\n"
     ]
    }
   ],
   "source": [
    "for n in range(5):\n",
    "    print(f\"Kod {n+1} marta takrorlandi\")"
   ]
  },
  {
   "cell_type": "code",
   "execution_count": 30,
   "id": "b6dfccd4",
   "metadata": {},
   "outputs": [],
   "source": [
    "toq = list(range(11,100,+2))"
   ]
  },
  {
   "cell_type": "code",
   "execution_count": null,
   "id": "40c15415",
   "metadata": {},
   "outputs": [],
   "source": []
  },
  {
   "cell_type": "code",
   "execution_count": 33,
   "id": "fec0d582",
   "metadata": {},
   "outputs": [
    {
     "name": "stdout",
     "output_type": "stream",
     "text": [
      "1331\n",
      "2197\n",
      "3375\n",
      "4913\n",
      "6859\n",
      "9261\n",
      "12167\n",
      "15625\n",
      "19683\n",
      "24389\n",
      "29791\n",
      "35937\n",
      "42875\n",
      "50653\n",
      "59319\n",
      "68921\n",
      "79507\n",
      "91125\n",
      "103823\n",
      "117649\n",
      "132651\n",
      "148877\n",
      "166375\n",
      "185193\n",
      "205379\n",
      "226981\n",
      "250047\n",
      "274625\n",
      "300763\n",
      "328509\n",
      "357911\n",
      "389017\n",
      "421875\n",
      "456533\n",
      "493039\n",
      "531441\n",
      "571787\n",
      "614125\n",
      "658503\n",
      "704969\n",
      "753571\n",
      "804357\n",
      "857375\n",
      "912673\n",
      "970299\n"
     ]
    }
   ],
   "source": [
    "for kub in toq:\n",
    "    print(kub**3 )"
   ]
  },
  {
   "cell_type": "code",
   "execution_count": 34,
   "id": "6a0ccd27",
   "metadata": {},
   "outputs": [
    {
     "name": "stdout",
     "output_type": "stream",
     "text": [
      "Eng sevimli kinoyingizni kiriting:\n",
      "1 kinoning nomini kiriting:Titanik\n",
      "2 kinoning nomini kiriting:Avatar\n",
      "3 kinoning nomini kiriting:Garry Potter\n",
      "4 kinoning nomini kiriting:Uzuklar Hukumdori\n",
      "5 kinoning nomini kiriting:Shaytanat\n",
      "['Titanik', 'Avatar', 'Garry Potter', 'Uzuklar Hukumdori', 'Shaytanat']\n"
     ]
    }
   ],
   "source": [
    "kinolar = []\n",
    "print(\"Eng sevimli kinoyingizni kiriting:\")\n",
    "for n in range(5):\n",
    "    kinolar.append(input(f\"{n+1} kinoning nomini kiriting:\"))\n",
    "print(kinolar)    "
   ]
  },
  {
   "cell_type": "code",
   "execution_count": 36,
   "id": "dcbbad75",
   "metadata": {},
   "outputs": [
    {
     "name": "stdout",
     "output_type": "stream",
     "text": [
      "Bugun necha kishi bn suhbat qildingiz?>>>5\n",
      "Bugun kim bilan ko'rishdingiz\n",
      "1-tanishgan insoningizni ismini kiriting:Sardor\n",
      "2-tanishgan insoningizni ismini kiriting:vali#\n",
      "3-tanishgan insoningizni ismini kiriting:ali\n",
      "4-tanishgan insoningizni ismini kiriting:gani\n",
      "5-tanishgan insoningizni ismini kiriting:mane\n",
      "['Sardor', 'vali#', 'ali', 'gani', 'mane']\n"
     ]
    }
   ],
   "source": [
    "n_people = int(input(\"Bugun necha kishi bn suhbat qildingiz?>>>\"))\n",
    "\n",
    "suxbat = []\n",
    "print(\"Bugun kim bilan ko'rishdingiz\")\n",
    "for n in range(n_people):\n",
    "    suxbat.append(input(f\"{n+1}-tanishgan insoningizni ismini kiriting:\"))\n",
    "print(suxbat)    "
   ]
  },
  {
   "cell_type": "code",
   "execution_count": 37,
   "id": "89de26b4",
   "metadata": {},
   "outputs": [],
   "source": [
    "x= ('Aplle')"
   ]
  },
  {
   "cell_type": "code",
   "execution_count": 38,
   "id": "68f0b287",
   "metadata": {},
   "outputs": [
    {
     "name": "stdout",
     "output_type": "stream",
     "text": [
      "<class 'str'>\n"
     ]
    }
   ],
   "source": [
    "print(type(x))"
   ]
  },
  {
   "cell_type": "code",
   "execution_count": 39,
   "id": "cc74fc36",
   "metadata": {},
   "outputs": [],
   "source": [
    "x= 5\n",
    "x= complex(x)"
   ]
  },
  {
   "cell_type": "code",
   "execution_count": 40,
   "id": "0172a6e7",
   "metadata": {},
   "outputs": [
    {
     "data": {
      "text/plain": [
       "(5+0j)"
      ]
     },
     "execution_count": 40,
     "metadata": {},
     "output_type": "execute_result"
    }
   ],
   "source": [
    "x"
   ]
  },
  {
   "cell_type": "code",
   "execution_count": 41,
   "id": "9d084a71",
   "metadata": {},
   "outputs": [],
   "source": [
    "txt = \"Hello World\"\n",
    "txt = txt.replace(\"H\", \"J\")"
   ]
  },
  {
   "cell_type": "code",
   "execution_count": 42,
   "id": "62cc3d72",
   "metadata": {},
   "outputs": [
    {
     "data": {
      "text/plain": [
       "'Jello World'"
      ]
     },
     "execution_count": 42,
     "metadata": {},
     "output_type": "execute_result"
    }
   ],
   "source": [
    "txt"
   ]
  },
  {
   "cell_type": "code",
   "execution_count": 45,
   "id": "32229a79",
   "metadata": {},
   "outputs": [
    {
     "name": "stdout",
     "output_type": "stream",
     "text": [
      "My name is Shakhin and i am 25\n"
     ]
    }
   ],
   "source": [
    "age = 25\n",
    "txt = \"My name is Shakhin and i am {}\"\n",
    "print(txt.format(age))"
   ]
  },
  {
   "cell_type": "code",
   "execution_count": 47,
   "id": "028a1ef8",
   "metadata": {},
   "outputs": [
    {
     "name": "stdout",
     "output_type": "stream",
     "text": [
      "('apple', 'banana', 'cherry')\n"
     ]
    }
   ],
   "source": [
    "fruits = (\"apple\", \"banana\", \"cherry\")\n",
    "print(fruits[0:])"
   ]
  },
  {
   "cell_type": "code",
   "execution_count": 48,
   "id": "162ff7db",
   "metadata": {},
   "outputs": [
    {
     "name": "stdout",
     "output_type": "stream",
     "text": [
      "3\n"
     ]
    }
   ],
   "source": [
    "print(len(fruits))"
   ]
  },
  {
   "cell_type": "code",
   "execution_count": 52,
   "id": "6fb46444",
   "metadata": {},
   "outputs": [],
   "source": [
    "fruits = {\"apple\", \"banana\", \"cherry\"}\n",
    "more_fruits = [\"orange\", \"mango\", \"grapes\"]\n",
    "fruits.update(more_fruits)"
   ]
  },
  {
   "cell_type": "code",
   "execution_count": 53,
   "id": "54f6e65f",
   "metadata": {},
   "outputs": [],
   "source": [
    "fruits.update(more_fruits)"
   ]
  },
  {
   "cell_type": "code",
   "execution_count": 54,
   "id": "ace543b0",
   "metadata": {},
   "outputs": [
    {
     "data": {
      "text/plain": [
       "{'apple', 'banana', 'cherry', 'grapes', 'mango', 'orange'}"
      ]
     },
     "execution_count": 54,
     "metadata": {},
     "output_type": "execute_result"
    }
   ],
   "source": [
    "fruits"
   ]
  },
  {
   "cell_type": "code",
   "execution_count": 57,
   "id": "756445ca",
   "metadata": {},
   "outputs": [
    {
     "name": "stdout",
     "output_type": "stream",
     "text": [
      "Mustang\n"
     ]
    }
   ],
   "source": [
    "car = {\n",
    "  \"brand\": \"Ford\",\n",
    "  \"model\": \"Mustang\",\n",
    "  \"year\": 1964\n",
    "}\n",
    "print(car.get(\"model\"))"
   ]
  },
  {
   "cell_type": "code",
   "execution_count": 58,
   "id": "b1a0dc92",
   "metadata": {},
   "outputs": [
    {
     "name": "stdout",
     "output_type": "stream",
     "text": [
      "Yes\n"
     ]
    }
   ],
   "source": [
    "print(\"Yes\") if 5 > 2 else print(\"No\")"
   ]
  },
  {
   "cell_type": "code",
   "execution_count": 60,
   "id": "1cad4b15",
   "metadata": {},
   "outputs": [],
   "source": [
    "i = 1\n",
    "while i < 6:\n",
    "  if i == 3:\n",
    "    \n",
    "    break\n",
    "\n",
    "  i += 1"
   ]
  },
  {
   "cell_type": "code",
   "execution_count": 61,
   "id": "1d67f838",
   "metadata": {},
   "outputs": [
    {
     "data": {
      "text/plain": [
       "3"
      ]
     },
     "execution_count": 61,
     "metadata": {},
     "output_type": "execute_result"
    }
   ],
   "source": []
  },
  {
   "cell_type": "code",
   "execution_count": 67,
   "id": "e04b5ccc",
   "metadata": {},
   "outputs": [],
   "source": [
    " def my_function(*kids):\n",
    "    print(\"The youngest child is \" + kids[2])\n",
    "    1"
   ]
  },
  {
   "cell_type": "code",
   "execution_count": 69,
   "id": "e6a127e7",
   "metadata": {},
   "outputs": [
    {
     "name": "stdout",
     "output_type": "stream",
     "text": [
      "<function <lambda> at 0x000001F62C87F670>\n"
     ]
    }
   ],
   "source": [
    "x = lambda a:a\n",
    "print(x)"
   ]
  },
  {
   "cell_type": "code",
   "execution_count": 70,
   "id": "a99694f0",
   "metadata": {},
   "outputs": [
    {
     "name": "stdout",
     "output_type": "stream",
     "text": [
      "5\n"
     ]
    }
   ],
   "source": [
    "class MyClass():\n",
    "    x=5\n",
    "p1= MyClass()\n",
    "print(p1.x)"
   ]
  },
  {
   "cell_type": "code",
   "execution_count": 102,
   "id": "b1d68f50",
   "metadata": {},
   "outputs": [
    {
     "ename": "ModuleNotFoundError",
     "evalue": "No module named 'mymodule'",
     "output_type": "error",
     "traceback": [
      "\u001b[1;31m---------------------------------------------------------------------------\u001b[0m",
      "\u001b[1;31mModuleNotFoundError\u001b[0m                       Traceback (most recent call last)",
      "Input \u001b[1;32mIn [102]\u001b[0m, in \u001b[0;36m<cell line: 1>\u001b[1;34m()\u001b[0m\n\u001b[1;32m----> 1\u001b[0m \u001b[38;5;28;01mimport\u001b[39;00m \u001b[38;5;21;01mmymodule\u001b[39;00m \u001b[38;5;28;01mas\u001b[39;00m \u001b[38;5;21;01mmx\u001b[39;00m\n",
      "\u001b[1;31mModuleNotFoundError\u001b[0m: No module named 'mymodule'"
     ]
    }
   ],
   "source": [
    "import mymodule as mx"
   ]
  },
  {
   "cell_type": "code",
   "execution_count": null,
   "id": "6f005007",
   "metadata": {},
   "outputs": [],
   "source": []
  },
  {
   "cell_type": "code",
   "execution_count": null,
   "id": "d755d6ae",
   "metadata": {},
   "outputs": [],
   "source": []
  }
 ],
 "metadata": {
  "kernelspec": {
   "display_name": "Python 3 (ipykernel)",
   "language": "python",
   "name": "python3"
  },
  "language_info": {
   "codemirror_mode": {
    "name": "ipython",
    "version": 3
   },
   "file_extension": ".py",
   "mimetype": "text/x-python",
   "name": "python",
   "nbconvert_exporter": "python",
   "pygments_lexer": "ipython3",
   "version": "3.9.12"
  }
 },
 "nbformat": 4,
 "nbformat_minor": 5
}
