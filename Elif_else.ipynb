{
 "cells": [
  {
   "cell_type": "code",
   "execution_count": 5,
   "id": "b00f7f5b",
   "metadata": {},
   "outputs": [
    {
     "name": "stdout",
     "output_type": "stream",
     "text": [
      "FEED ME!\n"
     ]
    }
   ],
   "source": [
    "hungry = True\n",
    "if hungry:\n",
    "    print('FEED ME!')\n",
    "else:\n",
    "    print(\"Im not hungry\")"
   ]
  },
  {
   "cell_type": "code",
   "execution_count": 18,
   "id": "96eeabe0",
   "metadata": {},
   "outputs": [
    {
     "name": "stdout",
     "output_type": "stream",
     "text": [
      "N=5\n",
      "5!=1\n",
      "5!=2\n",
      "5!=6\n",
      "5!=24\n",
      "5!=120\n"
     ]
    }
   ],
   "source": [
    "i = 1\n",
    "fact = 1\n",
    "n  = int(input(\"N=\"))\n",
    "while i<=n:\n",
    "    fact = fact*i\n",
    "    i = i+1\n",
    "    print(str(n)+\"!=\"+str(fact))"
   ]
  },
  {
   "cell_type": "code",
   "execution_count": 19,
   "id": "5fd8c5e6",
   "metadata": {},
   "outputs": [
    {
     "name": "stdout",
     "output_type": "stream",
     "text": [
      "i do not know much \n"
     ]
    }
   ],
   "source": [
    "loc = 'Game'\n",
    "if loc == 'Auto Shop':\n",
    "    print(\"Cars are coll!\")\n",
    "elif loc == 'Bank':\n",
    "    print(\"Money is cool!\")\n",
    "elif loc =='Store':\n",
    "    print(\"Welcome to the Store\")\n",
    "else:\n",
    "    print(\"i do not know much \")\n"
   ]
  },
  {
   "cell_type": "code",
   "execution_count": 23,
   "id": "4a6e821f",
   "metadata": {},
   "outputs": [
    {
     "name": "stdout",
     "output_type": "stream",
     "text": [
      "Hallo Shakhriddin\n"
     ]
    }
   ],
   "source": [
    "name = 'Shakhriddin'\n",
    "if name == \"Bahriddin\":\n",
    "    print(\"Hallo Bahriddin\")\n",
    "elif name == 'Shakhriddin':\n",
    "    print('Hallo Shakhriddin')\n",
    "else:\n",
    "    print('Du kannst mich mall')\n"
   ]
  },
  {
   "cell_type": "code",
   "execution_count": 24,
   "id": "3cd8589a",
   "metadata": {},
   "outputs": [
    {
     "data": {
      "text/plain": [
       "True"
      ]
     },
     "execution_count": 24,
     "metadata": {},
     "output_type": "execute_result"
    }
   ],
   "source": [
    "a =5\n",
    "a==5"
   ]
  },
  {
   "cell_type": "code",
   "execution_count": 27,
   "id": "c03e0724",
   "metadata": {},
   "outputs": [
    {
     "data": {
      "text/plain": [
       "False"
      ]
     },
     "execution_count": 27,
     "metadata": {},
     "output_type": "execute_result"
    }
   ],
   "source": [
    "a!=5"
   ]
  },
  {
   "cell_type": "code",
   "execution_count": 28,
   "id": "3f354d6e",
   "metadata": {},
   "outputs": [
    {
     "name": "stdout",
     "output_type": "stream",
     "text": [
      "Ismingizni nima?\n",
      ">>>vali\n",
      "Uzr, Vali, biz Alini kutayapmiz.\n"
     ]
    },
    {
     "data": {
      "text/plain": [
       "False"
      ]
     },
     "execution_count": 28,
     "metadata": {},
     "output_type": "execute_result"
    }
   ],
   "source": [
    "ism = 'Ali'\n",
    "ism = input('Ismingizni nima?\\n>>>')\n",
    "if ism.lower() != 'ali':\n",
    "    print(f\"Uzr, {ism.title()}, biz Alini kutayapmiz.\")\n",
    "else:\n",
    "    print(\"Salom Ali\")\n",
    "ism.lower() == 'ali'"
   ]
  },
  {
   "cell_type": "markdown",
   "id": "fa176f80",
   "metadata": {},
   "source": [
    "yosh = int(input('Yoshingiz nechchida?'))\n",
    "if yosh<=5:\n",
    "     print(\"Siz uchun kirish bepul.\")\n",
    "elif yosh <=12:\n",
    "     print(\"Siz uchun kirish narxi: 5000 so'm\")\n",
    "elif yosh <=18:\n",
    "     print(\"Siz uchun kirish narxi: 8000 so'm\")\n",
    "else:\n",
    "     print(\"Siz uchun kirish narxi : 1000 so'm\")"
   ]
  },
  {
   "cell_type": "code",
   "execution_count": 39,
   "id": "628bc015",
   "metadata": {},
   "outputs": [
    {
     "name": "stdout",
     "output_type": "stream",
     "text": [
      "Bugun nima kun?Shanba\n",
      "Havo harorati qanday?5\n",
      "Uyda qolamiz\n"
     ]
    }
   ],
   "source": [
    "kun = input(\"Bugun nima kun?\")\n",
    "harorat = float(input('Havo harorati qanday?'))\n",
    "if (kun.lower()== 'yakshanba' or kun.lower()== 'shanba') and harorat>=30:\n",
    "    print(\"Cho'milgani ketdik! \")\n",
    "elif kun.lower()== 'yakshanba' or kun.lower()== 'shanba' and harorat <30:\n",
    "    print(\"Uyda qolamiz\")"
   ]
  },
  {
   "cell_type": "code",
   "execution_count": 40,
   "id": "5e5bd6ac",
   "metadata": {},
   "outputs": [
    {
     "data": {
      "text/plain": [
       "False"
      ]
     },
     "execution_count": 40,
     "metadata": {},
     "output_type": "execute_result"
    }
   ],
   "source": [
    "kun == 'Juma'"
   ]
  },
  {
   "cell_type": "code",
   "execution_count": 44,
   "id": "08ebd8df",
   "metadata": {},
   "outputs": [
    {
     "name": "stdout",
     "output_type": "stream",
     "text": [
      "Mijoz choy sotib oldi\n",
      "Mijoz salat sotib oldi\n",
      "Mijoz non sotib oldi\n",
      "Jami 22000 so'm\n"
     ]
    }
   ],
   "source": [
    "narh = 15000\n",
    "choy = True\n",
    "salat = True\n",
    "non = True\n",
    "kompot = False\n",
    "assorti = False\n",
    "\n",
    "if choy:\n",
    "    print(\"Mijoz choy sotib oldi\")\n",
    "    narh = narh + 2000\n",
    "if salat:\n",
    "    print(\"Mijoz salat sotib oldi\")\n",
    "    narh = narh + 3000\n",
    "if non:\n",
    "    print(\"Mijoz non sotib oldi\")\n",
    "    narh = narh + 2000\n",
    "if kompot:\n",
    "    print(\"Mijoz kompot sotib oldi\")\n",
    "    narh = narh + 5000\n",
    "if assorti:\n",
    "    print(\"Mijoz assorti sotib oldi\")\n",
    "    narh = narh + 5000\n",
    "\n",
    "print(f\"Jami {narh} so'm\")\n"
   ]
  },
  {
   "cell_type": "code",
   "execution_count": 1,
   "id": "73e89e68",
   "metadata": {},
   "outputs": [],
   "source": [
    "mylist = [(1,2),(3,4),(5,6), (7,8)]\n"
   ]
  },
  {
   "cell_type": "code",
   "execution_count": 3,
   "id": "839838f8",
   "metadata": {},
   "outputs": [
    {
     "data": {
      "text/plain": [
       "[(1, 2), (3, 4), (5, 6), (7, 8)]"
      ]
     },
     "execution_count": 3,
     "metadata": {},
     "output_type": "execute_result"
    }
   ],
   "source": [
    "mylist\n"
   ]
  },
  {
   "cell_type": "code",
   "execution_count": 4,
   "id": "77fc5f73",
   "metadata": {},
   "outputs": [
    {
     "data": {
      "text/plain": [
       "4"
      ]
     },
     "execution_count": 4,
     "metadata": {},
     "output_type": "execute_result"
    }
   ],
   "source": [
    "len(mylist)"
   ]
  },
  {
   "cell_type": "code",
   "execution_count": 8,
   "id": "8dcea075",
   "metadata": {},
   "outputs": [
    {
     "name": "stdout",
     "output_type": "stream",
     "text": [
      "2\n",
      "4\n",
      "6\n",
      "8\n"
     ]
    }
   ],
   "source": [
    "for (a,b) in mylist:\n",
    "    print(b)\n",
    "    "
   ]
  },
  {
   "cell_type": "code",
   "execution_count": 14,
   "id": "4f53b496",
   "metadata": {},
   "outputs": [
    {
     "name": "stdout",
     "output_type": "stream",
     "text": [
      " x ning qiymati  0 ga teng boladi\n",
      " x ning qiymati  1 ga teng boladi\n",
      " x ning qiymati  2 ga teng boladi\n",
      " x ning qiymati  3 ga teng boladi\n",
      " x ning qiymati  4 ga teng boladi\n"
     ]
    }
   ],
   "source": [
    "#while operatori bilan ishlaymiz\n",
    "x = 0\n",
    "while x<5:\n",
    "    print(f\" x ning qiymati  {x} ga teng boladi\")\n",
    "    x=x+1"
   ]
  },
  {
   "cell_type": "code",
   "execution_count": 15,
   "id": "f23dedd9",
   "metadata": {},
   "outputs": [
    {
     "name": "stdout",
     "output_type": "stream",
     "text": [
      "Hello World!\n"
     ]
    }
   ],
   "source": [
    "print( \"Hello World!\")"
   ]
  },
  {
   "cell_type": "code",
   "execution_count": 17,
   "id": "4936a75e",
   "metadata": {},
   "outputs": [
    {
     "name": "stdout",
     "output_type": "stream",
     "text": [
      "O'ngacha sanaymiz\n",
      "1\n",
      "2\n",
      "3\n",
      "4\n",
      "5\n",
      "6\n",
      "7\n",
      "8\n",
      "9\n",
      "10\n"
     ]
    }
   ],
   "source": [
    "print(\"O'ngacha sanaymiz\")\n",
    "for n in range(10):\n",
    "    print(n+1)"
   ]
  },
  {
   "cell_type": "code",
   "execution_count": 20,
   "id": "fe1cab26",
   "metadata": {},
   "outputs": [
    {
     "name": "stdout",
     "output_type": "stream",
     "text": [
      "Musbat son\n"
     ]
    }
   ],
   "source": [
    "son = 50\n",
    "if son>=0:\n",
    "    print(\"Musbat son\")\n",
    "else:\n",
    "    print(\"Manfiy son\")"
   ]
  },
  {
   "cell_type": "code",
   "execution_count": 22,
   "id": "53ecabfa",
   "metadata": {},
   "outputs": [
    {
     "name": "stdout",
     "output_type": "stream",
     "text": [
      "Istalgan son kiriting: 55\n",
      "55 ning kvadrati 3025 ga teng\n"
     ]
    }
   ],
   "source": [
    "son = int(input(\"Istalgan son kiriting: \"))\n",
    "print(f\"{son} ning kvadrati {son**2} ga teng\")"
   ]
  },
  {
   "cell_type": "code",
   "execution_count": null,
   "id": "39f2404d",
   "metadata": {},
   "outputs": [],
   "source": []
  },
  {
   "cell_type": "code",
   "execution_count": null,
   "id": "04834838",
   "metadata": {},
   "outputs": [],
   "source": []
  }
 ],
 "metadata": {
  "kernelspec": {
   "display_name": "Python 3 (ipykernel)",
   "language": "python",
   "name": "python3"
  },
  "language_info": {
   "codemirror_mode": {
    "name": "ipython",
    "version": 3
   },
   "file_extension": ".py",
   "mimetype": "text/x-python",
   "name": "python",
   "nbconvert_exporter": "python",
   "pygments_lexer": "ipython3",
   "version": "3.9.12"
  }
 },
 "nbformat": 4,
 "nbformat_minor": 5
}
