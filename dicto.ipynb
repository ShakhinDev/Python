{
 "cells": [
  {
   "cell_type": "code",
   "execution_count": 5,
   "id": "8fb650c8",
   "metadata": {},
   "outputs": [],
   "source": [
    "talaba_0 = {\n",
    "    'ism':'Shahriddin',\n",
    "    'familiya':'Korakhanov',\n",
    "    'yosh':'25',\n",
    "    'fakultet':'Gidromelioratsiya',\n",
    "    'kurs':'4'\n",
    "}"
   ]
  },
  {
   "cell_type": "code",
   "execution_count": 6,
   "id": "0bcb5bbb",
   "metadata": {},
   "outputs": [
    {
     "name": "stdout",
     "output_type": "stream",
     "text": [
      "dict_items([('ism', 'Shahriddin'), ('familiya', 'Korakhanov'), ('yosh', '25'), ('fakultet', 'Gidromelioratsiya'), ('kurs', '4')])\n"
     ]
    }
   ],
   "source": [
    "print(talaba_0.items())"
   ]
  },
  {
   "cell_type": "markdown",
   "id": "5c4b0ca2",
   "metadata": {},
   "source": []
  },
  {
   "cell_type": "code",
   "execution_count": 7,
   "id": "c74a070e",
   "metadata": {},
   "outputs": [
    {
     "name": "stdout",
     "output_type": "stream",
     "text": [
      "Kalit:ism\n",
      "Qiymat:Shahriddin\n",
      "\n",
      "Kalit:familiya\n",
      "Qiymat:Korakhanov\n",
      "\n",
      "Kalit:yosh\n",
      "Qiymat:25\n",
      "\n",
      "Kalit:fakultet\n",
      "Qiymat:Gidromelioratsiya\n",
      "\n",
      "Kalit:kurs\n",
      "Qiymat:4\n",
      "\n"
     ]
    }
   ],
   "source": [
    "for kalit, qiymat in talaba_0.items():\n",
    "    print(f\"Kalit:{kalit}\")\n",
    "    print(f\"Qiymat:{qiymat}\\n\")"
   ]
  },
  {
   "cell_type": "code",
   "execution_count": null,
   "id": "8105915a",
   "metadata": {},
   "outputs": [],
   "source": []
  }
 ],
 "metadata": {
  "kernelspec": {
   "display_name": "Python 3 (ipykernel)",
   "language": "python",
   "name": "python3"
  },
  "language_info": {
   "codemirror_mode": {
    "name": "ipython",
    "version": 3
   },
   "file_extension": ".py",
   "mimetype": "text/x-python",
   "name": "python",
   "nbconvert_exporter": "python",
   "pygments_lexer": "ipython3",
   "version": "3.9.12"
  }
 },
 "nbformat": 4,
 "nbformat_minor": 5
}
