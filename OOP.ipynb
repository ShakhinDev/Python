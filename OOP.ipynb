{
 "cells": [
  {
   "cell_type": "code",
   "execution_count": 13,
   "id": "f6b1d5fa",
   "metadata": {},
   "outputs": [],
   "source": [
    "class Shaxs:\n",
    "    \"\"\"Shaxslar haqida ma'lumot\"\"\"\n",
    "    def __init__(self,ism,familiya,passport,tyil):\n",
    "        self.ism = ism\n",
    "        self.familiya = familiya\n",
    "        self.passport = passport\n",
    "        self.tyil = tyil\n",
    "    \n",
    "    def get_info(self):\n",
    "        \"\"\"Shaxs haqida ma'lumot\"\"\"\n",
    "        info = f\"{self.ism} {self.familiya}. \"\n",
    "        info += f\"Passport:{self.passport}, {self.tyil}-yilda tug`ilgan\"\n",
    "        return info\n",
    "        \n",
    "    def get_age(self,yil):\n",
    "        \"\"\"Shaxsning yoshini qaytaruvchi metod\"\"\"\n",
    "        return yil - self.tyil\n"
   ]
  },
  {
   "cell_type": "code",
   "execution_count": 15,
   "id": "4e7b43b2",
   "metadata": {},
   "outputs": [
    {
     "name": "stdout",
     "output_type": "stream",
     "text": [
      "Shakhriddin Korakhanov. Passport:AA4222800, 1997-yilda tug`ilgan. 26 yoshda.\n"
     ]
    }
   ],
   "source": [
    "inson = Shaxs(\"Shakhriddin\",\"Korakhanov\",\"AA4222800\",1997)\n",
    "print(f\"{inson.get_info()}. {inson.get_age(2023)} yoshda.\")"
   ]
  },
  {
   "cell_type": "code",
   "execution_count": 16,
   "id": "f6440d65",
   "metadata": {},
   "outputs": [],
   "source": [
    "class Talaba(Shaxs):\n",
    "    \"\"\"Talaba klassi\"\"\"\n",
    "    def __init__(self, ism, familiya, passport, tyil):\n",
    "        \"\"\"Talabaning xususiyatlari\"\"\"\n",
    "        super().__init__(ism, familiya, passport, tyil)"
   ]
  },
  {
   "cell_type": "code",
   "execution_count": 17,
   "id": "736bbeb8",
   "metadata": {},
   "outputs": [
    {
     "name": "stdout",
     "output_type": "stream",
     "text": [
      "Shakhriddin Korakhanov. Passport:AA4222800, 1997-yilda tug`ilgan\n"
     ]
    }
   ],
   "source": [
    "talaba = Talaba(\"Shakhriddin\",\"Korakhanov\",\"AA4222800\",1997)\n",
    "print(talaba.get_info())"
   ]
  },
  {
   "cell_type": "code",
   "execution_count": 18,
   "id": "7ddc2318",
   "metadata": {},
   "outputs": [
    {
     "name": "stdout",
     "output_type": "stream",
     "text": [
      "26\n"
     ]
    }
   ],
   "source": [
    "print(talaba.get_age(2023))"
   ]
  },
  {
   "cell_type": "code",
   "execution_count": 19,
   "id": "f684d7e3",
   "metadata": {},
   "outputs": [],
   "source": [
    "class Talaba(Shaxs):\n",
    "    \"\"\"Talaba klassi\"\"\"\n",
    "    def __init__(self, ism, familiya, passport, tyil,idraqam):\n",
    "        \"\"\"Talabaning xususiyatlari\"\"\"\n",
    "        super().__init__(ism, familiya, passport, tyil)\n",
    "        self.idraqam = idraqam\n",
    "        self.bosqich = 1"
   ]
  },
  {
   "cell_type": "code",
   "execution_count": 20,
   "id": "1b94e434",
   "metadata": {},
   "outputs": [],
   "source": [
    "talaba = Talaba(\"Shakhriddin\",\"Korakhanov\",\"AA4222800\",1997,\"0000018\")"
   ]
  },
  {
   "cell_type": "code",
   "execution_count": 21,
   "id": "dbe8ba84",
   "metadata": {},
   "outputs": [],
   "source": [
    "class Talaba(Shaxs):\n",
    "    \"\"\"Talaba klassi\"\"\"\n",
    "    def __init__(self, ism, familiya, passport, tyil,idraqam):\n",
    "        \"\"\"Talabaning xususiyatlari\"\"\"\n",
    "        super().__init__(ism, familiya, passport, tyil)\n",
    "        self.idraqam = idraqam\n",
    "        self.bosqich = 1\n",
    "    \n",
    "    def get_id(self):\n",
    "        \"\"\"Talabaning ID raqami\"\"\"\n",
    "        return self.idraqam\n",
    "    \n",
    "    def get_bosqich(self):\n",
    "        \"\"\"Talabaning o'qish bosqichi\"\"\"\n",
    "        return self.bosqich"
   ]
  },
  {
   "cell_type": "code",
   "execution_count": 22,
   "id": "e3a772ab",
   "metadata": {},
   "outputs": [
    {
     "name": "stdout",
     "output_type": "stream",
     "text": [
      "Shakhriddin Korakhanov. Passport:AA4222800, 1997-yilda tug`ilgan. ID raqami:0000018\n"
     ]
    }
   ],
   "source": [
    "talaba = Talaba(\"Shakhriddin\",\"Korakhanov\",\"AA4222800\",1997,\"0000018\")\n",
    "print(f\"{talaba.get_info()}. ID raqami:{talaba.get_id()}\")"
   ]
  },
  {
   "cell_type": "code",
   "execution_count": 23,
   "id": "365aa74c",
   "metadata": {},
   "outputs": [
    {
     "name": "stdout",
     "output_type": "stream",
     "text": [
      "1-bosqich talabasi\n"
     ]
    }
   ],
   "source": [
    "print(f\"{talaba.get_bosqich()}-bosqich talabasi\")"
   ]
  },
  {
   "cell_type": "markdown",
   "id": "772f6567",
   "metadata": {},
   "source": [
    "# AMALIYOT\n",
    "- `Talaba` klassiga yana bir, `fanlar` degan xususiyat qo'shing. Bu xususiyat parametr sifatida uzatilmasin va obyekt yaratilganida bo'sh ro'yxatdan iborat bo'lsin (`self.fanlar=[]`)\n",
    "- `Fan` degan yangi klass yarating va bu klassdan turli fanlar uchun alohida obyektlar yarating.\n",
    "- Talaba klassiga `fanga_yozil()` degan yangi metod yozing. Bu metod parametr sifatida `Fan` klassiga tegishli obyektlarni qabul qilib olsin va talabaning fanlar ro'yxatiga qo'shib qo'ysin.\n",
    "- Talabaning fanlari ro'yxatidan biror fanni o'chirib tashlash uchun `remove_fan()` metodini yozing. Agar bu metodga ro'yxatda yo'q fan uzatilsa `\"Siz bu fanga yozilmagansiz\"` xabarini qaytarsin.\n",
    "- Yuqoridagi `Shaxs` klassidan boshqa turli voris klasslar yaratib ko'ring (masalan `Professor`, `Foydalanuvchi`, `Sotuvchi`, `Mijoz` va hokazo)\n",
    "- Har bir klassga o'ziga hoz xususiyatlar va metodlar yuklang.\n",
    "- Barcha yangi klasslar uchun `get_info()` metodini qayta yozib chiqing.\n",
    "- Voris klasslardan yana boshqa voris klass yaratib ko'ring. Misol uchun `Foydalanuvchi` klassidan `Admin` klassini yarating. \n",
    "- `Admin` klassiga foydalanuvchida yo'q yangi metodlar yozing, masalan, `ban_user()` metodi konsolga `\"Foydalanuvchi bloklandi\"` degan matn chiqarsin."
   ]
  },
  {
   "cell_type": "code",
   "execution_count": null,
   "id": "fc53967e",
   "metadata": {},
   "outputs": [],
   "source": []
  },
  {
   "cell_type": "code",
   "execution_count": null,
   "id": "6b16ff62",
   "metadata": {},
   "outputs": [],
   "source": []
  },
  {
   "cell_type": "code",
   "execution_count": null,
   "id": "d87f24c9",
   "metadata": {},
   "outputs": [],
   "source": []
  },
  {
   "cell_type": "code",
   "execution_count": null,
   "id": "92206028",
   "metadata": {},
   "outputs": [],
   "source": []
  }
 ],
 "metadata": {
  "kernelspec": {
   "display_name": "Python 3 (ipykernel)",
   "language": "python",
   "name": "python3"
  },
  "language_info": {
   "codemirror_mode": {
    "name": "ipython",
    "version": 3
   },
   "file_extension": ".py",
   "mimetype": "text/x-python",
   "name": "python",
   "nbconvert_exporter": "python",
   "pygments_lexer": "ipython3",
   "version": "3.9.12"
  }
 },
 "nbformat": 4,
 "nbformat_minor": 5
}
