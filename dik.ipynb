{
 "cells": [
  {
   "cell_type": "code",
   "execution_count": 4,
   "id": "e4ca2506",
   "metadata": {},
   "outputs": [
    {
     "name": "stdout",
     "output_type": "stream",
     "text": [
      "Do'kondagi mahsulotlar:\n",
      "Olma\n",
      "Anor\n",
      "Sabzi\n",
      "Nok\n",
      "Banan\n"
     ]
    }
   ],
   "source": [
    "mahsulotlar = {'olma':15000, 'anor':20000, 'sabzi':15000, 'nok':32000,'banan':25000}\n",
    "print(\"Do'kondagi mahsulotlar:\")\n",
    "for mahsulot in mahsulotlar:\n",
    "    print(mahsulot.title())"
   ]
  },
  {
   "cell_type": "code",
   "execution_count": 5,
   "id": "2cde5bdb",
   "metadata": {},
   "outputs": [
    {
     "name": "stdout",
     "output_type": "stream",
     "text": [
      "Anor 20000 so'm\n"
     ]
    }
   ],
   "source": [
    "bozorlik = ['anor', 'uzum', 'non', 'baliq']\n",
    "for mahsulot in mahsulotlar:\n",
    "    if mahsulot in bozorlik:\n",
    "        print(f\"{mahsulot.title()} {mahsulotlar[mahsulot]} so'm\")"
   ]
  },
  {
   "cell_type": "code",
   "execution_count": 6,
   "id": "2e9a897c",
   "metadata": {},
   "outputs": [
    {
     "name": "stdout",
     "output_type": "stream",
     "text": [
      "Iltimos , do'koningizga uzum ham olib keling\n",
      "Iltimos , do'koningizga non ham olib keling\n",
      "Iltimos , do'koningizga baliq ham olib keling\n"
     ]
    }
   ],
   "source": [
    "for buyum in bozorlik :\n",
    "    if buyum not in mahsulotlar:\n",
    "        print(f\"Iltimos , do'koningizga {buyum} ham olib keling\")"
   ]
  },
  {
   "cell_type": "code",
   "execution_count": 10,
   "id": "607f13ca",
   "metadata": {},
   "outputs": [
    {
     "name": "stdout",
     "output_type": "stream",
     "text": [
      "dict_keys(['olma', 'anor', 'sabzi', 'nok', 'banan'])\n"
     ]
    }
   ],
   "source": [
    "print(mahsulotlar.keys())"
   ]
  },
  {
   "cell_type": "code",
   "execution_count": 11,
   "id": "ed76b7f4",
   "metadata": {},
   "outputs": [
    {
     "name": "stdout",
     "output_type": "stream",
     "text": [
      "Do'konimizdagi mahsulotlar:\n",
      "Anor\n",
      "Banan\n",
      "Nok\n",
      "Olma\n",
      "Sabzi\n"
     ]
    }
   ],
   "source": [
    "print(\"Do'konimizdagi mahsulotlar:\")\n",
    "for mahsulot in sorted(mahsulotlar):\n",
    "    print(mahsulot.title())"
   ]
  },
  {
   "cell_type": "code",
   "execution_count": 12,
   "id": "b66a43cc",
   "metadata": {},
   "outputs": [],
   "source": [
    "toys = {'ball','car', 'clown', 'ball', 'baba yaga', 'car'}"
   ]
  },
  {
   "cell_type": "code",
   "execution_count": 14,
   "id": "cbcade16",
   "metadata": {},
   "outputs": [
    {
     "data": {
      "text/plain": [
       "{'baba yaga', 'ball', 'car', 'clown'}"
      ]
     },
     "execution_count": 14,
     "metadata": {},
     "output_type": "execute_result"
    }
   ],
   "source": [
    "set(toys)"
   ]
  },
  {
   "cell_type": "code",
   "execution_count": 15,
   "id": "67938006",
   "metadata": {},
   "outputs": [],
   "source": [
    "mylist = [1,2,3]"
   ]
  },
  {
   "cell_type": "code",
   "execution_count": 17,
   "id": "3eb18fd5",
   "metadata": {},
   "outputs": [
    {
     "name": "stdout",
     "output_type": "stream",
     "text": [
      "0\n",
      "2\n",
      "4\n",
      "6\n",
      "8\n",
      "10\n"
     ]
    }
   ],
   "source": [
    "for num in range(0,11,2):\n",
    "    print(num)"
   ]
  },
  {
   "cell_type": "code",
   "execution_count": 19,
   "id": "243b08e1",
   "metadata": {},
   "outputs": [
    {
     "data": {
      "text/plain": [
       "[0, 3, 6, 9, 12]"
      ]
     },
     "execution_count": 19,
     "metadata": {},
     "output_type": "execute_result"
    }
   ],
   "source": [
    "list(range(0,15,3))"
   ]
  },
  {
   "cell_type": "code",
   "execution_count": 20,
   "id": "f556bfc4",
   "metadata": {},
   "outputs": [
    {
     "name": "stdout",
     "output_type": "stream",
     "text": [
      "At index 0 the letter is a\n",
      "At index 1 the letter is b\n",
      "At index 2 the letter is c\n",
      "At index 3 the letter is d\n",
      "At index 4 the letter is e\n"
     ]
    }
   ],
   "source": [
    "index_count = 0\n",
    "for letter in 'abcde':\n",
    "    print('At index {} the letter is {}'.format(index_count, letter))\n",
    "    index_count +=1"
   ]
  },
  {
   "cell_type": "code",
   "execution_count": 24,
   "id": "34b68824",
   "metadata": {},
   "outputs": [
    {
     "name": "stdout",
     "output_type": "stream",
     "text": [
      "(0, 'a')\n",
      "(1, 'b')\n",
      "(2, 'c')\n",
      "(3, 'd')\n",
      "(4, 'e')\n"
     ]
    }
   ],
   "source": [
    "\n",
    "word = 'abcde'\n",
    "for item in enumerate(word):\n",
    "    print(item)\n",
    "   "
   ]
  },
  {
   "cell_type": "code",
   "execution_count": null,
   "id": "2fdfabd9",
   "metadata": {},
   "outputs": [],
   "source": []
  }
 ],
 "metadata": {
  "kernelspec": {
   "display_name": "Python 3 (ipykernel)",
   "language": "python",
   "name": "python3"
  },
  "language_info": {
   "codemirror_mode": {
    "name": "ipython",
    "version": 3
   },
   "file_extension": ".py",
   "mimetype": "text/x-python",
   "name": "python",
   "nbconvert_exporter": "python",
   "pygments_lexer": "ipython3",
   "version": "3.9.12"
  }
 },
 "nbformat": 4,
 "nbformat_minor": 5
}
