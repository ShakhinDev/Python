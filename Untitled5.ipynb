{
 "cells": [
  {
   "cell_type": "code",
   "execution_count": 2,
   "id": "4059e6e2",
   "metadata": {},
   "outputs": [
    {
     "name": "stdout",
     "output_type": "stream",
     "text": [
      "Kiritilgan sonning kvadratini qaytaruvchi dastur.\n",
      "Istalgan sonni kiriting (Dasturni to'xtashish ushun 'exit' deb yozing:15\n",
      "225.0\n",
      "Istalgan sonni kiriting (Dasturni to'xtashish ushun 'exit' deb yozing:exit\n",
      "Dastur tugadi!\n"
     ]
    }
   ],
   "source": [
    "print(\"Kiritilgan sonning kvadratini qaytaruvchi dastur.\")\n",
    "savol = \"Istalgan sonni kiriting \"\n",
    "savol+=\"(Dasturni to'xtashish ushun 'exit' deb yozing:\"\n",
    "qiymat = ''\n",
    "while qiymat != 'exit':\n",
    "    qiymat = input(savol)\n",
    "    if qiymat != 'exit':\n",
    "        print(float(qiymat)**2)\n",
    "print(\"Dastur tugadi!\")"
   ]
  },
  {
   "cell_type": "code",
   "execution_count": 3,
   "id": "8217f34c",
   "metadata": {},
   "outputs": [
    {
     "name": "stdout",
     "output_type": "stream",
     "text": [
      "Kiritilgan sonning kvadratini qaytaruvchi dastur.\n",
      "Istalgan sonni kiriting (Dasturni to'xtashish ushun 'exit' deb yozing:153\n",
      "23409.0\n",
      "Istalgan sonni kiriting (Dasturni to'xtashish ushun 'exit' deb yozing:exit\n",
      "Dastur tugadi!\n"
     ]
    }
   ],
   "source": [
    "print(\"Kiritilgan sonning kvadratini qaytaruvchi dastur.\")\n",
    "savol = \"Istalgan sonni kiriting \"\n",
    "savol+=\"(Dasturni to'xtashish ushun 'exit' deb yozing:\"\n",
    "qiymat = ''\n",
    "while True: # abadiy sikl , toxtovsiz takrorlanadi\n",
    "    qiymat = input(savol)\n",
    "    if qiymat == 'exit':\n",
    "        break\n",
    "    else:   \n",
    "        print(float(qiymat)**2)\n",
    "print(\"Dastur tugadi!\")"
   ]
  },
  {
   "cell_type": "raw",
   "id": "a5101f9f",
   "metadata": {},
   "source": [
    " "
   ]
  },
  {
   "cell_type": "code",
   "execution_count": 5,
   "id": "52c3738e",
   "metadata": {},
   "outputs": [
    {
     "name": "stdout",
     "output_type": "stream",
     "text": [
      "1 ning kvadrati 1 ga teng !\n",
      "2 ning kvadrati 4 ga teng !\n",
      "3 ning kvadrati 9 ga teng !\n",
      "4 ning kvadrati 16 ga teng !\n"
     ]
    }
   ],
   "source": [
    "sonlar = list(range(1,11))\n",
    "for son in sonlar:\n",
    "    if son ==5:\n",
    "        break\n",
    "    print(f\"{son} ning kvadrati {son**2} ga teng !\")    "
   ]
  },
  {
   "cell_type": "code",
   "execution_count": 12,
   "id": "8bf8d125",
   "metadata": {},
   "outputs": [
    {
     "name": "stdout",
     "output_type": "stream",
     "text": [
      "1\n",
      "3\n",
      "5\n",
      "7\n",
      "9\n"
     ]
    }
   ],
   "source": [
    "son = 0\n",
    "while son<10:\n",
    "    son+=1\n",
    "    if son%2==0:   # agar 2%==0 bolsa toq sonlar , 2%!=0 bolsa juft sonlar\n",
    "        continue\n",
    "    else:\n",
    "        print(son)"
   ]
  },
  {
   "cell_type": "code",
   "execution_count": null,
   "id": "54b549d6",
   "metadata": {},
   "outputs": [],
   "source": []
  }
 ],
 "metadata": {
  "kernelspec": {
   "display_name": "Python 3 (ipykernel)",
   "language": "python",
   "name": "python3"
  },
  "language_info": {
   "codemirror_mode": {
    "name": "ipython",
    "version": 3
   },
   "file_extension": ".py",
   "mimetype": "text/x-python",
   "name": "python",
   "nbconvert_exporter": "python",
   "pygments_lexer": "ipython3",
   "version": "3.9.12"
  }
 },
 "nbformat": 4,
 "nbformat_minor": 5
}
