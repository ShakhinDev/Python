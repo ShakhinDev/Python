{
 "cells": [
  {
   "cell_type": "code",
   "execution_count": 2,
   "id": "e01211dd",
   "metadata": {},
   "outputs": [
    {
     "name": "stdout",
     "output_type": "stream",
     "text": [
      "SHAXIN KORACHANOV\n"
     ]
    }
   ],
   "source": [
    "vorname = \"shaxin\"\n",
    "nachname= \"korachanov\"\n",
    "vollname=f\"{vorname} {nachname}\"\n",
    "print(vollname.upper())\n"
   ]
  },
  {
   "cell_type": "code",
   "execution_count": 8,
   "id": "08f0518c",
   "metadata": {},
   "outputs": [
    {
     "name": "stdout",
     "output_type": "stream",
     "text": [
      "Shaxin korachanov\n"
     ]
    }
   ],
   "source": [
    "vorname = \"shaxin\"\n",
    "nachname= \"korachanov\"\n",
    "vollname=f\"{vorname} {nachname}\"\n",
    "print(vollname.capitalize())"
   ]
  },
  {
   "cell_type": "code",
   "execution_count": null,
   "id": "518cd7b1",
   "metadata": {},
   "outputs": [],
   "source": []
  }
 ],
 "metadata": {
  "kernelspec": {
   "display_name": "Python 3 (ipykernel)",
   "language": "python",
   "name": "python3"
  },
  "language_info": {
   "codemirror_mode": {
    "name": "ipython",
    "version": 3
   },
   "file_extension": ".py",
   "mimetype": "text/x-python",
   "name": "python",
   "nbconvert_exporter": "python",
   "pygments_lexer": "ipython3",
   "version": "3.9.12"
  }
 },
 "nbformat": 4,
 "nbformat_minor": 5
}
