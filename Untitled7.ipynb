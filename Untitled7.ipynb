{
 "cells": [
  {
   "cell_type": "code",
   "execution_count": 6,
   "id": "ae0d4fd8",
   "metadata": {},
   "outputs": [
    {
     "name": "stdout",
     "output_type": "stream",
     "text": [
      "Keling o'ylagan sonni topish o'ynaymiz!\n",
      "1 dan 10 gacha bo'lgan son o'yladim topa olasizmi?: 7\n",
      "topdingiz yana o'yansizmi: (xa\\yo'q) yo'q\n"
     ]
    },
    {
     "ename": "NameError",
     "evalue": "name 'xa' is not defined",
     "output_type": "error",
     "traceback": [
      "\u001b[1;31m---------------------------------------------------------------------------\u001b[0m",
      "\u001b[1;31mNameError\u001b[0m                                 Traceback (most recent call last)",
      "Input \u001b[1;32mIn [6]\u001b[0m, in \u001b[0;36m<cell line: 6>\u001b[1;34m()\u001b[0m\n\u001b[0;32m      6\u001b[0m x\u001b[38;5;241m!=\u001b[39my\n\u001b[0;32m      7\u001b[0m javob\u001b[38;5;241m=\u001b[39m(\u001b[38;5;28minput\u001b[39m(\u001b[38;5;124m\"\u001b[39m\u001b[38;5;124mtopdingiz yana o\u001b[39m\u001b[38;5;124m'\u001b[39m\u001b[38;5;124myansizmi: (xa\u001b[39m\u001b[38;5;124m\\\u001b[39m\u001b[38;5;124myo\u001b[39m\u001b[38;5;124m'\u001b[39m\u001b[38;5;124mq) \u001b[39m\u001b[38;5;124m\"\u001b[39m))\n\u001b[1;32m----> 8\u001b[0m \u001b[38;5;28;01mif\u001b[39;00m javob\u001b[38;5;241m==\u001b[39m\u001b[43mxa\u001b[49m :\n\u001b[0;32m      9\u001b[0m     \u001b[38;5;28mprint\u001b[39m(\u001b[38;5;124m\"\u001b[39m\u001b[38;5;124mdavom etamiz\u001b[39m\u001b[38;5;124m\"\u001b[39m)\n\u001b[0;32m     10\u001b[0m \u001b[38;5;28;01melse\u001b[39;00m:\n",
      "\u001b[1;31mNameError\u001b[0m: name 'xa' is not defined"
     ]
    }
   ],
   "source": [
    "import numpy as np\n",
    "print(\"Keling o'ylagan sonni topish o'ynaymiz!\")\n",
    "x=np.random.randint(0,10)\n",
    "y=int(input(\"1 dan 10 gacha bo'lgan son o'yladim topa olasizmi?: \"))\n",
    "while  True:\n",
    "    x!=y\n",
    "    javob=(input(\"topdingiz yana o'yansizmi: (xa\\yo'q) \"))\n",
    "    if javob==xa :\n",
    "        print(\"davom etamiz\")\n",
    "    else:\n",
    "        print('tugadi')\n",
    "    "
   ]
  },
  {
   "cell_type": "code",
   "execution_count": null,
   "id": "3ec5fa72",
   "metadata": {},
   "outputs": [],
   "source": []
  },
  {
   "cell_type": "code",
   "execution_count": null,
   "id": "b5ff2042",
   "metadata": {},
   "outputs": [],
   "source": []
  }
 ],
 "metadata": {
  "kernelspec": {
   "display_name": "Python 3 (ipykernel)",
   "language": "python",
   "name": "python3"
  },
  "language_info": {
   "codemirror_mode": {
    "name": "ipython",
    "version": 3
   },
   "file_extension": ".py",
   "mimetype": "text/x-python",
   "name": "python",
   "nbconvert_exporter": "python",
   "pygments_lexer": "ipython3",
   "version": "3.9.12"
  }
 },
 "nbformat": 4,
 "nbformat_minor": 5
}
