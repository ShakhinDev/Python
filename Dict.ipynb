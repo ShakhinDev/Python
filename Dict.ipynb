{
 "cells": [
  {
   "cell_type": "code",
   "execution_count": 14,
   "id": "d68f503e",
   "metadata": {},
   "outputs": [
    {
     "name": "stdout",
     "output_type": "stream",
     "text": [
      "Korakhanov Shakhirddin,        1997 - yilda tug'ilgan,         25 yoshda\n"
     ]
    }
   ],
   "source": [
    "talaba = {'ism': 'Korakhanov Shakhirddin', 'yosh':25, 't_yil':1997}\n",
    "print(f\"{talaba['ism'].title()},\\\n",
    "        {talaba['t_yil']} - yilda tug'ilgan, \\\n",
    "        {talaba['yosh']} yoshda\")"
   ]
  },
  {
   "cell_type": "code",
   "execution_count": 15,
   "id": "76cf5023",
   "metadata": {},
   "outputs": [
    {
     "data": {
      "text/plain": [
       "{'ism': 'Korakhanov Shakhirddin', 'yosh': 25, 't_yil': 1997}"
      ]
     },
     "execution_count": 15,
     "metadata": {},
     "output_type": "execute_result"
    }
   ],
   "source": [
    "talaba"
   ]
  },
  {
   "cell_type": "code",
   "execution_count": 16,
   "id": "a41eb792",
   "metadata": {},
   "outputs": [],
   "source": [
    "talaba['kurs'] = 'Bitirgan'"
   ]
  },
  {
   "cell_type": "code",
   "execution_count": 17,
   "id": "9b0488b1",
   "metadata": {},
   "outputs": [
    {
     "data": {
      "text/plain": [
       "{'ism': 'Korakhanov Shakhirddin',\n",
       " 'yosh': 25,\n",
       " 't_yil': 1997,\n",
       " 'kurs': 'Bitirgan'}"
      ]
     },
     "execution_count": 17,
     "metadata": {},
     "output_type": "execute_result"
    }
   ],
   "source": [
    "talaba"
   ]
  },
  {
   "cell_type": "code",
   "execution_count": 18,
   "id": "6b341325",
   "metadata": {},
   "outputs": [],
   "source": [
    "talaba['Fakultet'] = 'Gidromelioratsiya'\n"
   ]
  },
  {
   "cell_type": "code",
   "execution_count": 19,
   "id": "5364641a",
   "metadata": {},
   "outputs": [],
   "source": [
    "talaba['Viloyati'] = 'Qashqadaryo'"
   ]
  },
  {
   "cell_type": "code",
   "execution_count": 20,
   "id": "75459984",
   "metadata": {},
   "outputs": [
    {
     "data": {
      "text/plain": [
       "{'ism': 'Korakhanov Shakhirddin',\n",
       " 'yosh': 25,\n",
       " 't_yil': 1997,\n",
       " 'kurs': 'Bitirgan',\n",
       " 'Fakultet': 'Gidromelioratsiya',\n",
       " 'Viloyati': 'Qashqadaryo'}"
      ]
     },
     "execution_count": 20,
     "metadata": {},
     "output_type": "execute_result"
    }
   ],
   "source": [
    "talaba"
   ]
  },
  {
   "cell_type": "code",
   "execution_count": 21,
   "id": "acba875c",
   "metadata": {},
   "outputs": [],
   "source": [
    "handy = {'ali':'Iphone X',\n",
    "         'Vali':'Iphone 11 Pro Max',\n",
    "         'Shakhin':'Iphone 13 Pro Max',\n",
    "         'Baha':'Redmi 11 Pro',\n",
    "         'Sardor':'Galaxy S21' \n",
    "    \n",
    "}"
   ]
  },
  {
   "cell_type": "code",
   "execution_count": 22,
   "id": "d9223293",
   "metadata": {},
   "outputs": [
    {
     "data": {
      "text/plain": [
       "{'ali': 'Iphone X',\n",
       " 'Vali': 'Iphone 11 Pro Max',\n",
       " 'Shakhin': 'Iphone 13 Pro Max',\n",
       " 'Baha': 'Redmi 11 Pro',\n",
       " 'Sardor': 'Galaxy S21'}"
      ]
     },
     "execution_count": 22,
     "metadata": {},
     "output_type": "execute_result"
    }
   ],
   "source": [
    "handy"
   ]
  },
  {
   "cell_type": "code",
   "execution_count": 34,
   "id": "397e6289",
   "metadata": {},
   "outputs": [],
   "source": [
    "handys = handy.get('Shakhin', 'Bunday ism mavjud emas') #  get methodi agar kalit soz topilmasa ikkinch qiymatni yani bunday ism mavjud emasni chiqaradi"
   ]
  },
  {
   "cell_type": "code",
   "execution_count": 35,
   "id": "50ba50ff",
   "metadata": {},
   "outputs": [
    {
     "name": "stdout",
     "output_type": "stream",
     "text": [
      "Iphone 13 Pro Max\n"
     ]
    }
   ],
   "source": [
    "print(handys)"
   ]
  },
  {
   "cell_type": "code",
   "execution_count": null,
   "id": "f1ab6381",
   "metadata": {},
   "outputs": [],
   "source": []
  }
 ],
 "metadata": {
  "kernelspec": {
   "display_name": "Python 3 (ipykernel)",
   "language": "python",
   "name": "python3"
  },
  "language_info": {
   "codemirror_mode": {
    "name": "ipython",
    "version": 3
   },
   "file_extension": ".py",
   "mimetype": "text/x-python",
   "name": "python",
   "nbconvert_exporter": "python",
   "pygments_lexer": "ipython3",
   "version": "3.9.12"
  }
 },
 "nbformat": 4,
 "nbformat_minor": 5
}
