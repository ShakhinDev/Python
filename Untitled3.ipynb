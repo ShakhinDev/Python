{
 "cells": [
  {
   "cell_type": "code",
   "execution_count": 1,
   "id": "a920dc6b",
   "metadata": {},
   "outputs": [
    {
     "name": "stdout",
     "output_type": "stream",
     "text": [
      "Tug'ilgan yilingizni kiriting:1997\n",
      "Siz 25 yoshda ekansiz\n"
     ]
    }
   ],
   "source": [
    "t_yil = int(input(\"Tug'ilgan yilingizni kiriting:\"))\n",
    "yosh = 2022 - t_yil\n",
    "print('Siz', yosh , \"yoshda ekansiz\")"
   ]
  },
  {
   "cell_type": "code",
   "execution_count": null,
   "id": "ac128a42",
   "metadata": {},
   "outputs": [],
   "source": []
  }
 ],
 "metadata": {
  "kernelspec": {
   "display_name": "Python 3 (ipykernel)",
   "language": "python",
   "name": "python3"
  },
  "language_info": {
   "codemirror_mode": {
    "name": "ipython",
    "version": 3
   },
   "file_extension": ".py",
   "mimetype": "text/x-python",
   "name": "python",
   "nbconvert_exporter": "python",
   "pygments_lexer": "ipython3",
   "version": "3.9.12"
  }
 },
 "nbformat": 4,
 "nbformat_minor": 5
}
