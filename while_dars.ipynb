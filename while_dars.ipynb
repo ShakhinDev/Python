{
 "cells": [
  {
   "cell_type": "code",
   "execution_count": null,
   "id": "1ccdf7d0",
   "metadata": {},
   "outputs": [],
   "source": [
    "ism = input(\"Isminingiz nima? \")\n",
    "savol = f\"Salom, {ism.title()}, Yoshingiz nechida:\"\n",
    "yosh = input(savol)\n",
    "yosh = int(yosh)\n",
    "height =input(\"Bo'yingiz nechi metr\")"
   ]
  },
  {
   "cell_type": "code",
   "execution_count": null,
   "id": "c9f86acf",
   "metadata": {},
   "outputs": [],
   "source": [
    "print(\"Hello World!\")"
   ]
  },
  {
   "cell_type": "code",
   "execution_count": null,
   "id": "cd805d59",
   "metadata": {},
   "outputs": [],
   "source": []
  }
 ],
 "metadata": {
  "kernelspec": {
   "display_name": "Python 3 (ipykernel)",
   "language": "python",
   "name": "python3"
  },
  "language_info": {
   "codemirror_mode": {
    "name": "ipython",
    "version": 3
   },
   "file_extension": ".py",
   "mimetype": "text/x-python",
   "name": "python",
   "nbconvert_exporter": "python",
   "pygments_lexer": "ipython3",
   "version": "3.9.12"
  }
 },
 "nbformat": 4,
 "nbformat_minor": 5
}
