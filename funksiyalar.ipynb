{
 "cells": [
  {
   "cell_type": "code",
   "execution_count": 1,
   "id": "c8138d85",
   "metadata": {},
   "outputs": [
    {
     "name": "stdout",
     "output_type": "stream",
     "text": [
      "Assalom alekum\n"
     ]
    }
   ],
   "source": [
    "def salom_ber():\n",
    "    \"\"\"Salom ber degan funksiya\"\"\"\n",
    "    print(\"Assalom alekum\")\n",
    "salom_ber()"
   ]
  },
  {
   "cell_type": "code",
   "execution_count": 4,
   "id": "a87af184",
   "metadata": {},
   "outputs": [
    {
     "name": "stdout",
     "output_type": "stream",
     "text": [
      "Assalom alekum , hurmatli Shahin\n"
     ]
    }
   ],
   "source": [
    "def salom_ber(ism):\n",
    "    \"\"\"Salom ber degan funksiya, foydalanuvchining ismini so'rab unga salom beradi\n",
    "    \"\"\"\n",
    "    print(f\"Assalom alekum , hurmatli {ism.title()}\")\n",
    "salom_ber('Shahin')"
   ]
  },
  {
   "cell_type": "code",
   "execution_count": 11,
   "id": "7d3f9d8c",
   "metadata": {},
   "outputs": [
    {
     "name": "stdout",
     "output_type": "stream",
     "text": [
      "Assalom alekum , hurmatli Shahriddin\n",
      "Xush kelibsiz , hurmatli Shahriddin Korakhanov\n",
      "Siz 25 yoshda ekansiz\n"
     ]
    }
   ],
   "source": [
    "def user( ism ,familiya, t_yil, j_yil=2022):\n",
    "    \"\"\"Userning ism familiyasi va tug'ilgan yilini hisoblaydi\"\"\"\n",
    "    print(f\"Assalom alekum , hurmatli {ism.title()}\")\n",
    "    print(f\"Xush kelibsiz , hurmatli {ism.title()} {familiya.title()}\")\n",
    "    print(f\"Siz {j_yil -t_yil} yoshda ekansiz\")\n",
    "user('Shahriddin', 'Korakhanov',1997)\n"
   ]
  },
  {
   "cell_type": "code",
   "execution_count": 26,
   "id": "6dae90f5",
   "metadata": {},
   "outputs": [
    {
     "name": "stdout",
     "output_type": "stream",
     "text": [
      "5 ning kvadrati 25 ga teng\n",
      "5 ning kubi esa 125 ga teng\n"
     ]
    }
   ],
   "source": [
    "def kv(son):\n",
    "    \"\"\"sonning kvadratini hisoblaymiz\"\"\"\n",
    "    print(f\"{son} ning kvadrati {son**2} ga teng\")\n",
    "    print(f\"{son} ning kubi esa {son**3} ga teng\")\n",
    "kv(5)"
   ]
  },
  {
   "cell_type": "code",
   "execution_count": 30,
   "id": "2372fbb4",
   "metadata": {},
   "outputs": [
    {
     "name": "stdout",
     "output_type": "stream",
     "text": [
      "False bo'lsa juft True toq bo'ladi \n"
     ]
    }
   ],
   "source": [
    "def juft_toq(son): \n",
    "    \"\"\"sonning juft yoki toqligini tekshiradi\"\"\"\n",
    "    print(f\"{son%2==0} bo'lsa juft {son%2!=0} toq bo'ladi \")\n",
    "juft_toq(15)  "
   ]
  },
  {
   "cell_type": "code",
   "execution_count": 40,
   "id": "e3934fda",
   "metadata": {},
   "outputs": [
    {
     "name": "stdout",
     "output_type": "stream",
     "text": [
      "156 juft bo'ladi\n"
     ]
    }
   ],
   "source": [
    "def juftmi(son):\n",
    "    if son%2:\n",
    "        print(f\"{son} toq bo'ladi\")\n",
    "    else:\n",
    "        print(f\"{son} juft bo'ladi\")\n",
    "juftmi(156)"
   ]
  },
  {
   "cell_type": "code",
   "execution_count": 43,
   "id": "35ba4742",
   "metadata": {},
   "outputs": [
    {
     "name": "stdout",
     "output_type": "stream",
     "text": [
      "Sonlar bir biriga teng\n"
     ]
    }
   ],
   "source": [
    "def sonlar(son1, son2):\n",
    "    \"\"\"Sonlar bir biriga tengligini tekshiradi\"\"\"\n",
    "    if son1==son2:\n",
    "        print(\"Sonlar bir biriga teng\")\n",
    "    else:\n",
    "        print(\"Boshqa son kirit!\")\n",
    "sonlar(3,3)"
   ]
  },
  {
   "cell_type": "code",
   "execution_count": 48,
   "id": "ea29b07b",
   "metadata": {},
   "outputs": [
    {
     "name": "stdout",
     "output_type": "stream",
     "text": [
      " x = 8 ning qiymatini 3 darajaga oshiramiz javobi = 512 nechiga tengligini ko'rsatadi\n"
     ]
    }
   ],
   "source": [
    "def son(x,y):\n",
    "    print(f\" x = {x} ning qiymatini {y} darajaga oshiramiz javobi = {x**y} nechiga tengligini ko'rsatadi\")\n",
    "son(8,3)\n"
   ]
  },
  {
   "cell_type": "code",
   "execution_count": 49,
   "id": "4aff2384",
   "metadata": {},
   "outputs": [
    {
     "name": "stdout",
     "output_type": "stream",
     "text": [
      "20 2 ga qoldiqsiz bo'linadi\n",
      "20 4 ga qoldiqsiz bo'linadi\n",
      "20 5 ga qoldiqsiz bo'linadi\n",
      "20 10 ga qoldiqsiz bo'linadi\n"
     ]
    }
   ],
   "source": [
    "# Foydalanuvchidan son qabul qilib, sonni 2, 3, 4 va 5 ga qoldiqsiz bo'linishini tekshiruvchi \n",
    "# funksiya yozing. \n",
    "# Natijalarni konsolga chiqaring (\"15 soni 3 ga qoldiqsiz bo'linadi\" ko'rinishida)\n",
    "def bolinish_alomatlari(son):\n",
    "    for n in range(2,11):\n",
    "        if not son%n:\n",
    "            print(f\"{son} {n} ga qoldiqsiz bo'linadi\")\n",
    "\n",
    "bolinish_alomatlari(20)"
   ]
  },
  {
   "cell_type": "code",
   "execution_count": 63,
   "id": "2b4f4b59",
   "metadata": {},
   "outputs": [
    {
     "name": "stdout",
     "output_type": "stream",
     "text": [
      "[1, 2, 3, 4]\n"
     ]
    }
   ],
   "source": [
    "def oraliq(kam,kop):\n",
    "    sonlar = []\n",
    "    while kam<kop:\n",
    "        sonlar.append(kam)\n",
    "        kam=kam+1\n",
    "    return sonlar\n",
    "print(oraliq(1,5))\n"
   ]
  },
  {
   "cell_type": "code",
   "execution_count": 65,
   "id": "9ee062e6",
   "metadata": {},
   "outputs": [],
   "source": [
    "sonlar = oraliq(0,9)"
   ]
  },
  {
   "cell_type": "code",
   "execution_count": 66,
   "id": "8eb390b5",
   "metadata": {},
   "outputs": [
    {
     "name": "stdout",
     "output_type": "stream",
     "text": [
      "[0, 1, 2, 3, 4, 5, 6, 7, 8]\n"
     ]
    }
   ],
   "source": [
    "print(sonlar)"
   ]
  },
  {
   "cell_type": "code",
   "execution_count": 69,
   "id": "75224e47",
   "metadata": {},
   "outputs": [],
   "source": [
    "def toliq_ism_yasa(ism, familiya):\n",
    "    \"\"\"To'liq ism qaytaruvchi funksiya\"\"\"\n",
    "    toliq_ism = f\"{ism} {familiya}\"\n",
    "    return toliq_ism\n",
    "talaba=toliq_ism_yasa('Shahriddin', 'Korakhanov')\n"
   ]
  },
  {
   "cell_type": "code",
   "execution_count": 70,
   "id": "0313a094",
   "metadata": {},
   "outputs": [
    {
     "name": "stdout",
     "output_type": "stream",
     "text": [
      "Shahriddin Korakhanov\n"
     ]
    }
   ],
   "source": [
    "print(talaba)"
   ]
  },
  {
   "cell_type": "code",
   "execution_count": 74,
   "id": "b6805149",
   "metadata": {},
   "outputs": [
    {
     "name": "stdout",
     "output_type": "stream",
     "text": [
      "Semestrni 5 bahoga tamomlagan Rustam Adhamov va Madina Yusupaliyevaga 1 mln so'm stipendiya berilsin\n"
     ]
    }
   ],
   "source": [
    "talaba1 = toliq_ism_yasa('Rustam' ,'Adhamov')\n",
    "talaba2 = toliq_ism_yasa(\"Madina\",\"Yusupaliyeva\")\n",
    "print(f\"Semestrni 5 bahoga tamomlagan {talaba1} va {talaba2}ga 1 mln so'm stipendiya berilsin\")"
   ]
  },
  {
   "cell_type": "code",
   "execution_count": 92,
   "id": "519267d4",
   "metadata": {},
   "outputs": [
    {
     "name": "stdout",
     "output_type": "stream",
     "text": [
      "O'quv tilini 5 bahoga yopgan Rustam Botirovich Adhamov va Madina Yusupaliyevalarga 1 mln so'm pul bering \n"
     ]
    }
   ],
   "source": [
    "def toliq_ism(ism, familiya , sharif=''):\n",
    "    if sharif:\n",
    "        toliq = f\"{ism} {sharif} {familiya}\"\n",
    "    else:\n",
    "        toliq = f\"{ism} {familiya}\"\n",
    "    return toliq.title()\n",
    "rus = toliq_ism('rustam','adhamov','botirovich')\n",
    "mad = toliq_ism('madina','yusupaliyeva')\n",
    "print(f\"O'quv tilini 5 bahoga yopgan {rus} va {mad}larga 1 mln so'm pul bering \")"
   ]
  },
  {
   "cell_type": "code",
   "execution_count": 93,
   "id": "9ea47268",
   "metadata": {},
   "outputs": [
    {
     "name": "stdout",
     "output_type": "stream",
     "text": [
      "Bozordagi mavjud mashinalar\n",
      "qora Malibu. Narxi = 35000 $ da\n",
      "kulrang M7. Narxi = No'malum $ da\n"
     ]
    }
   ],
   "source": [
    "def avto_info(kompaniya, model, rangi, karobka,yili,narhi=None):\n",
    "    avto ={\n",
    "        'kompaniya':kompaniya,\n",
    "        'model': model,\n",
    "        'rang': rangi,\n",
    "        'karobka':karobka,\n",
    "        'yil': yili,\n",
    "        'narx': narhi\n",
    "    }\n",
    "    return avto\n",
    "avto1= avto_info('GM','Malibu','qora','avtomat',2020,35000)\n",
    "avto2= avto_info('BMW','M7','kulrang','avtomat',2022)\n",
    "avtolar = [avto1, avto2]\n",
    "print(\"Bozordagi mavjud mashinalar\")\n",
    "for avto in avtolar:\n",
    "    if avto['narx']:\n",
    "        narx = avto['narx']\n",
    "    else:\n",
    "        narx = \"No'malum\"\n",
    "    print(f\"{avto['rang']} {avto['model']}. Narxi = {narx} $ da\")"
   ]
  },
  {
   "cell_type": "code",
   "execution_count": 130,
   "id": "1e65ec69",
   "metadata": {},
   "outputs": [
    {
     "name": "stdout",
     "output_type": "stream",
     "text": [
      "[1, 2, 3, 4, 5, 6, 7, 8, 9, 10, 11, 12, 13, 14]\n"
     ]
    }
   ],
   "source": [
    "def oraliq(min , max , qadam =''):\n",
    "    sonlar = []\n",
    "    qadam = []\n",
    "    while min<max:\n",
    "        sonlar.append(min)\n",
    "        min+=1 \n",
    "    return sonlar\n",
    "print(oraliq(1,15,1))"
   ]
  },
  {
   "cell_type": "code",
   "execution_count": 145,
   "id": "aab72275",
   "metadata": {},
   "outputs": [
    {
     "name": "stdout",
     "output_type": "stream",
     "text": [
      "Saytimizdagi avtolar ro'yhatini shakllantiramiz:\n",
      "\n",
      " Quyidagi ma'lumotlarni kiritingIshlab chiqaruvchi: BMW\n",
      "Modeli: BMW XZ\n",
      "Rangi: qora\n",
      "Karobka: mexanika\n",
      "Yili: 2022\n",
      "Narxi: 58000\n",
      "Yana avto qo'shasizmi? (yes/no): no\n",
      "\n",
      "Salonimizdagi avtolar: \n",
      "Qora Bmw Xz,mexanika karobka. Narhi: 58000\n"
     ]
    }
   ],
   "source": [
    "print(\"Saytimizdagi avtolar ro'yhatini shakllantiramiz:\")\n",
    "avtolar=[]\n",
    "while True:\n",
    "    print(\"\\n Quyidagi ma'lumotlarni kiriting\",end ='')\n",
    "    kompaniya=input(\"Ishlab chiqaruvchi: \")\n",
    "    model = input(\"Modeli: \")\n",
    "    rang = input('Rangi: ')\n",
    "    karobka = input(\"Karobka: \")\n",
    "    yil = input('Yili: ')\n",
    "    narx = input('Narxi: ')\n",
    "    avtolar.append(avto_info(kompaniya, model, rang, karobka,yil, narx))\n",
    "    javob = input(\"Yana avto qo'shasizmi? (yes/no): \")\n",
    "    if javob == 'no':\n",
    "        break\n",
    "print(\"\\nSalonimizdagi avtolar: \")\n",
    "for avto in avtolar:\n",
    "    if avto['narx']:\n",
    "        narx= avto['narx']\n",
    "    else:\n",
    "        narx= \"No'malum\"\n",
    "    print(f\"{avto['rang'].title()} {avto['model'].title()},{karobka} karobka. Narhi: {narx}\")"
   ]
  },
  {
   "cell_type": "code",
   "execution_count": 146,
   "id": "a8bed0bc",
   "metadata": {},
   "outputs": [
    {
     "name": "stdout",
     "output_type": "stream",
     "text": [
      "[{'kompaniya': 'BMW', 'model': 'BMW XZ', 'rang': 'qora', 'karobka': 'mexanika', 'yil': '2022', 'narx': '58000'}]\n"
     ]
    }
   ],
   "source": [
    "print(avtolar)"
   ]
  },
  {
   "cell_type": "code",
   "execution_count": 158,
   "id": "ba587cc8",
   "metadata": {},
   "outputs": [
    {
     "name": "stdout",
     "output_type": "stream",
     "text": [
      "Ismingizni kiiting: Kadirov\n",
      "Salom Akmal Kadirov\n"
     ]
    }
   ],
   "source": [
    "name= input(\"Ismingizni kiiting: \")\n",
    "if name=='Akmal':\n",
    "    print(\"Salom Akmal Kadirov\")\n",
    "elif name == 'Kadirov':\n",
    "    print(\"Salom Akmal Kadirov\")\n",
    "elif name ==\"Rustam\":\n",
    "    print('Salom Rustam Ahmedov')\n",
    "else:\n",
    "    print(\"Salom kim bo'lsang ham\")"
   ]
  },
  {
   "cell_type": "code",
   "execution_count": 159,
   "id": "ffef1841",
   "metadata": {},
   "outputs": [],
   "source": [
    "oylar =list(range(1,13))"
   ]
  },
  {
   "cell_type": "code",
   "execution_count": 160,
   "id": "209c92df",
   "metadata": {},
   "outputs": [
    {
     "data": {
      "text/plain": [
       "[1, 2, 3, 4, 5, 6, 7, 8, 9, 10, 11, 12]"
      ]
     },
     "execution_count": 160,
     "metadata": {},
     "output_type": "execute_result"
    }
   ],
   "source": [
    "oylar"
   ]
  },
  {
   "cell_type": "code",
   "execution_count": 172,
   "id": "4c230d70",
   "metadata": {},
   "outputs": [
    {
     "name": "stdout",
     "output_type": "stream",
     "text": [
      "Requirement already satisfied: pandas in c:\\users\\asus\\anaconda3\\envs\\django_darslari\\lib\\site-packages (1.5.0)\n",
      "Requirement already satisfied: numpy>=1.20.3 in c:\\users\\asus\\anaconda3\\envs\\django_darslari\\lib\\site-packages (from pandas) (1.23.4)\n",
      "Requirement already satisfied: pytz>=2020.1 in c:\\users\\asus\\anaconda3\\envs\\django_darslari\\lib\\site-packages (from pandas) (2022.1)\n",
      "Requirement already satisfied: python-dateutil>=2.8.1 in c:\\users\\asus\\anaconda3\\envs\\django_darslari\\lib\\site-packages (from pandas) (2.8.2)\n",
      "Requirement already satisfied: six>=1.5 in c:\\users\\asus\\anaconda3\\envs\\django_darslari\\lib\\site-packages (from python-dateutil>=2.8.1->pandas) (1.16.0)\n",
      "Note: you may need to restart the kernel to use updated packages.\n"
     ]
    }
   ],
   "source": [
    "pip install pandas\n"
   ]
  },
  {
   "cell_type": "code",
   "execution_count": 167,
   "id": "e723f61f",
   "metadata": {},
   "outputs": [],
   "source": [
    "import pandas as pd"
   ]
  },
  {
   "cell_type": "code",
   "execution_count": 174,
   "id": "bb237703",
   "metadata": {},
   "outputs": [],
   "source": [
    "import pandas as pd\n",
    "oylar= [{'Yanvar':31, 'Fevral':28,'Mart':31, 'Aprel':30,'May':31,'Iyun':30,'Iyul':31,'Avgust':31,'Sentabr':30,'Oktyabr':31,'Noyabr':30,'Dekabr':31}]\n",
    "df = pd.DataFrame(oylar)\n"
   ]
  },
  {
   "cell_type": "code",
   "execution_count": 175,
   "id": "5d7e7962",
   "metadata": {},
   "outputs": [],
   "source": [
    "import numpy as np"
   ]
  },
  {
   "cell_type": "code",
   "execution_count": null,
   "id": "4670b4f2",
   "metadata": {},
   "outputs": [],
   "source": [
    "\n"
   ]
  },
  {
   "cell_type": "code",
   "execution_count": null,
   "id": "b30748e1",
   "metadata": {},
   "outputs": [],
   "source": []
  },
  {
   "cell_type": "code",
   "execution_count": null,
   "id": "f3767595",
   "metadata": {},
   "outputs": [],
   "source": []
  }
 ],
 "metadata": {
  "kernelspec": {
   "display_name": "Python 3 (ipykernel)",
   "language": "python",
   "name": "python3"
  },
  "language_info": {
   "codemirror_mode": {
    "name": "ipython",
    "version": 3
   },
   "file_extension": ".py",
   "mimetype": "text/x-python",
   "name": "python",
   "nbconvert_exporter": "python",
   "pygments_lexer": "ipython3",
   "version": "3.9.12"
  }
 },
 "nbformat": 4,
 "nbformat_minor": 5
}
