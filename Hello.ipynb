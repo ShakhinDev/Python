{
 "cells": [
  {
   "cell_type": "code",
   "execution_count": 1,
   "id": "1169172e",
   "metadata": {},
   "outputs": [
    {
     "name": "stdout",
     "output_type": "stream",
     "text": [
      "Hello World! I'm Shakhriddin\n"
     ]
    }
   ],
   "source": [
    "print(\"Hello World! I'm Shakhriddin\")"
   ]
  },
  {
   "cell_type": "code",
   "execution_count": 11,
   "id": "4d484c4f",
   "metadata": {},
   "outputs": [
    {
     "name": "stdout",
     "output_type": "stream",
     "text": [
      "Guten Morgen\n"
     ]
    }
   ],
   "source": [
    "print(\"Guten Morgen\")"
   ]
  },
  {
   "cell_type": "code",
   "execution_count": 6,
   "id": "68f03495",
   "metadata": {},
   "outputs": [
    {
     "name": "stdout",
     "output_type": "stream",
     "text": [
      "Guten Tag\n"
     ]
    }
   ],
   "source": [
    "print(\"Guten Tag\")"
   ]
  },
  {
   "cell_type": "code",
   "execution_count": 7,
   "id": "907bb502",
   "metadata": {},
   "outputs": [
    {
     "name": "stdout",
     "output_type": "stream",
     "text": [
      "Guten Tag Herr Arbeitgeber\n"
     ]
    }
   ],
   "source": [
    "print('Guten Tag Herr Arbeitgeber')"
   ]
  },
  {
   "cell_type": "code",
   "execution_count": 9,
   "id": "32f23d36",
   "metadata": {},
   "outputs": [
    {
     "name": "stdout",
     "output_type": "stream",
     "text": [
      "Sehr geehrte Damen und Herren , ich bin Shakhriddin und ich bin 25 Jahre alt.\n"
     ]
    }
   ],
   "source": [
    "print(\"Sehr geehrte Damen und Herren , ich bin Shakhriddin und ich bin 25 Jahre alt.\")"
   ]
  },
  {
   "cell_type": "code",
   "execution_count": 10,
   "id": "15a57ed2",
   "metadata": {},
   "outputs": [
    {
     "name": "stdout",
     "output_type": "stream",
     "text": [
      "Ich komme aus Usbekistan\n"
     ]
    }
   ],
   "source": [
    "print('Ich komme aus Usbekistan')"
   ]
  },
  {
   "cell_type": "code",
   "execution_count": null,
   "id": "bebec49f",
   "metadata": {},
   "outputs": [],
   "source": []
  }
 ],
 "metadata": {
  "kernelspec": {
   "display_name": "Python 3 (ipykernel)",
   "language": "python",
   "name": "python3"
  },
  "language_info": {
   "codemirror_mode": {
    "name": "ipython",
    "version": 3
   },
   "file_extension": ".py",
   "mimetype": "text/x-python",
   "name": "python",
   "nbconvert_exporter": "python",
   "pygments_lexer": "ipython3",
   "version": "3.9.12"
  }
 },
 "nbformat": 4,
 "nbformat_minor": 5
}
