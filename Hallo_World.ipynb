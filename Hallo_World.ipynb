{
 "cells": [
  {
   "cell_type": "code",
   "execution_count": 37,
   "id": "4adbc149",
   "metadata": {},
   "outputs": [
    {
     "name": "stdout",
     "output_type": "stream",
     "text": [
      "Hallo Welt\n"
     ]
    }
   ],
   "source": [
    "print(\"Hallo Welt\")\n"
   ]
  },
  {
   "cell_type": "code",
   "execution_count": 38,
   "id": "b019c912",
   "metadata": {},
   "outputs": [
    {
     "name": "stdout",
     "output_type": "stream",
     "text": [
      "1000\n"
     ]
    }
   ],
   "source": [
    "a=55\n",
    "b=45\n",
    "c=(a-b)*(a+b)\n",
    "print(c)\n"
   ]
  },
  {
   "cell_type": "code",
   "execution_count": 39,
   "id": "a515bfac",
   "metadata": {},
   "outputs": [
    {
     "name": "stdout",
     "output_type": "stream",
     "text": [
      "6\n"
     ]
    }
   ],
   "source": [
    "d=(a^2)-(b^2)\n",
    "print(d)"
   ]
  },
  {
   "cell_type": "code",
   "execution_count": 40,
   "id": "4a8668bf",
   "metadata": {},
   "outputs": [
    {
     "name": "stdout",
     "output_type": "stream",
     "text": [
      "-4850\n"
     ]
    }
   ],
   "source": [
    "x= ((a^2)-(2*a*b) + (b^2))\n",
    "print(x)"
   ]
  },
  {
   "cell_type": "code",
   "execution_count": 41,
   "id": "ae0f99eb",
   "metadata": {},
   "outputs": [
    {
     "name": "stdout",
     "output_type": "stream",
     "text": [
      "Ich heisse Shaxhin\n",
      "und ich bin 25 Jahre alt\n"
     ]
    }
   ],
   "source": [
    "print(\"\"\"Ich heisse Shaxhin\n",
    "und ich bin 25 Jahre alt\"\"\")"
   ]
  },
  {
   "cell_type": "code",
   "execution_count": 42,
   "id": "9855d980",
   "metadata": {},
   "outputs": [
    {
     "name": "stdout",
     "output_type": "stream",
     "text": [
      "Ich will in der Zukunf \n",
      "Developer werden\n"
     ]
    }
   ],
   "source": [
    "print(\"Ich will in der Zukunf \\nDeveloper werden\")"
   ]
  },
  {
   "cell_type": "code",
   "execution_count": 43,
   "id": "d99ef89d",
   "metadata": {},
   "outputs": [
    {
     "name": "stdout",
     "output_type": "stream",
     "text": [
      "Geben Sie erste Zahl ein: 7\n",
      "Geben Sie zweite Zahl ein: 8\n",
      "Die Quadratsumme der Zahlen 7 und 8 ist 113\n"
     ]
    }
   ],
   "source": [
    "x=int(input(\"Geben Sie erste Zahl ein: \"))\n",
    "y=int(input(\"Geben Sie zweite Zahl ein: \"))\n",
    "z= ((x*x) + (y*y))\n",
    "print(f\"Die Quadratsumme der Zahlen {x} und {y} ist {z}\")"
   ]
  },
  {
   "cell_type": "code",
   "execution_count": null,
   "id": "cd0f84d6",
   "metadata": {},
   "outputs": [],
   "source": []
  }
 ],
 "metadata": {
  "kernelspec": {
   "display_name": "Python 3 (ipykernel)",
   "language": "python",
   "name": "python3"
  },
  "language_info": {
   "codemirror_mode": {
    "name": "ipython",
    "version": 3
   },
   "file_extension": ".py",
   "mimetype": "text/x-python",
   "name": "python",
   "nbconvert_exporter": "python",
   "pygments_lexer": "ipython3",
   "version": "3.9.12"
  }
 },
 "nbformat": 4,
 "nbformat_minor": 5
}
