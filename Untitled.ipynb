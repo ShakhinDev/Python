{
 "cells": [
  {
   "cell_type": "code",
   "execution_count": 1,
   "id": "ca5216d3",
   "metadata": {},
   "outputs": [
    {
     "data": {
      "text/plain": [
       "'Salom Dunyo'"
      ]
     },
     "execution_count": 1,
     "metadata": {},
     "output_type": "execute_result"
    }
   ],
   "source": [
    "\"Salom Dunyo\""
   ]
  },
  {
   "cell_type": "code",
   "execution_count": 6,
   "id": "38d79e47",
   "metadata": {},
   "outputs": [
    {
     "data": {
      "text/plain": [
       "'SALOM DUNYO'"
      ]
     },
     "execution_count": 6,
     "metadata": {},
     "output_type": "execute_result"
    }
   ],
   "source": [
    "x = \"Salom dunyo\"\n",
    "x.upper() # upper metodi hamma harflarni katta qilib beradi"
   ]
  },
  {
   "cell_type": "code",
   "execution_count": 7,
   "id": "6abc6936",
   "metadata": {},
   "outputs": [
    {
     "data": {
      "text/plain": [
       "'salom dunyo'"
      ]
     },
     "execution_count": 7,
     "metadata": {},
     "output_type": "execute_result"
    }
   ],
   "source": [
    "x.lower() # hamma harflarni kichkina qilib beradi"
   ]
  },
  {
   "cell_type": "code",
   "execution_count": 8,
   "id": "d4393a34",
   "metadata": {},
   "outputs": [
    {
     "data": {
      "text/plain": [
       "['Salom', 'dunyo']"
      ]
     },
     "execution_count": 8,
     "metadata": {},
     "output_type": "execute_result"
    }
   ],
   "source": [
    "x.split() # x da berilgan malumotni alohida alohida qilib beradi"
   ]
  },
  {
   "cell_type": "code",
   "execution_count": 12,
   "id": "63854b7d",
   "metadata": {},
   "outputs": [
    {
     "data": {
      "text/plain": [
       "[' Dunyo senin', ' to', \"'an\", ' emas']"
      ]
     },
     "execution_count": 12,
     "metadata": {},
     "output_type": "execute_result"
    }
   ],
   "source": [
    "x = \" Dunyo sening tog'ang emas\"\n",
    "x.split('g') # agar qavsni ichiga kerakli harfni yozsak split metodi tashb ketadi"
   ]
  },
  {
   "cell_type": "code",
   "execution_count": 13,
   "id": "c2f4b3c8",
   "metadata": {},
   "outputs": [
    {
     "data": {
      "text/plain": [
       "'zzzzzzzzzzzzzzzzzzzzzzzzz'"
      ]
     },
     "execution_count": 13,
     "metadata": {},
     "output_type": "execute_result"
    }
   ],
   "source": [
    "a = 'z'#\n",
    "a*25"
   ]
  },
  {
   "cell_type": "code",
   "execution_count": 17,
   "id": "d61d66fd",
   "metadata": {},
   "outputs": [
    {
     "name": "stdout",
     "output_type": "stream",
     "text": [
      "Bu qator boldi dobavlena\n"
     ]
    }
   ],
   "source": [
    "print('Bu qator boldi {0}'.format('dobavlena')) # bu metod  dobavlina sozini joylashtirishga xizmat qiladi"
   ]
  },
  {
   "cell_type": "code",
   "execution_count": 28,
   "id": "ccf0f48c",
   "metadata": {},
   "outputs": [
    {
     "name": "stdout",
     "output_type": "stream",
     "text": [
      "Kerak emas osmondagi oy Jonim\n"
     ]
    }
   ],
   "source": [
    "print('Kerak emas {0} {1} {2}'.format('osmondagi', 'oy', 'Jonim')) # bu metod  dobavlina sozini joylashtirishga xizmat qiladi"
   ]
  },
  {
   "cell_type": "raw",
   "id": "4c1a4445",
   "metadata": {},
   "source": [
    "\n"
   ]
  },
  {
   "cell_type": "raw",
   "id": "0bd92dfc",
   "metadata": {},
   "source": []
  },
  {
   "cell_type": "code",
   "execution_count": 32,
   "id": "5ffad173",
   "metadata": {},
   "outputs": [],
   "source": [
    " xisob = 55/56"
   ]
  },
  {
   "cell_type": "code",
   "execution_count": 33,
   "id": "25dfe1ae",
   "metadata": {},
   "outputs": [
    {
     "name": "stdout",
     "output_type": "stream",
     "text": [
      "0.9821428571428571\n"
     ]
    }
   ],
   "source": [
    "print(xisob)"
   ]
  },
  {
   "cell_type": "code",
   "execution_count": 34,
   "id": "96b18b35",
   "metadata": {},
   "outputs": [
    {
     "data": {
      "text/plain": [
       "0.9821428571428571"
      ]
     },
     "execution_count": 34,
     "metadata": {},
     "output_type": "execute_result"
    }
   ],
   "source": [
    "xisob"
   ]
  },
  {
   "cell_type": "code",
   "execution_count": 37,
   "id": "19f3862c",
   "metadata": {},
   "outputs": [
    {
     "name": "stdout",
     "output_type": "stream",
     "text": [
      "Togri javob:0.982\n"
     ]
    }
   ],
   "source": [
    "print('Togri javob:{x:1.3f}'.format(x=xisob))"
   ]
  },
  {
   "cell_type": "markdown",
   "id": "f0fa3a19",
   "metadata": {},
   "source": []
  },
  {
   "cell_type": "code",
   "execution_count": 38,
   "id": "0e4f2115",
   "metadata": {},
   "outputs": [],
   "source": [
    "name =  \"Shahriddin\""
   ]
  },
  {
   "cell_type": "code",
   "execution_count": 39,
   "id": "e60762f5",
   "metadata": {},
   "outputs": [
    {
     "name": "stdout",
     "output_type": "stream",
     "text": [
      "Ism :Shahriddin\n"
     ]
    }
   ],
   "source": [
    "print(f'Ism :{name}')"
   ]
  },
  {
   "cell_type": "code",
   "execution_count": 42,
   "id": "b53fdc38",
   "metadata": {},
   "outputs": [],
   "source": [
    "my_list=['Shahriddin', 1234567 , 56.56]"
   ]
  },
  {
   "cell_type": "code",
   "execution_count": 43,
   "id": "71b7f699",
   "metadata": {},
   "outputs": [
    {
     "data": {
      "text/plain": [
       "['Shahriddin', 1234567, 56.56]"
      ]
     },
     "execution_count": 43,
     "metadata": {},
     "output_type": "execute_result"
    }
   ],
   "source": [
    "my_list"
   ]
  },
  {
   "cell_type": "code",
   "execution_count": 45,
   "id": "d44ceb59",
   "metadata": {},
   "outputs": [
    {
     "data": {
      "text/plain": [
       "3"
      ]
     },
     "execution_count": 45,
     "metadata": {},
     "output_type": "execute_result"
    }
   ],
   "source": [
    "len(my_list) # len funksiyasi list malumotlarining nechta elementdan tashkil topganini korsatadi"
   ]
  },
  {
   "cell_type": "markdown",
   "id": "a46043be",
   "metadata": {},
   "source": [
    "my_list[0]"
   ]
  },
  {
   "cell_type": "code",
   "execution_count": 46,
   "id": "a70e389d",
   "metadata": {},
   "outputs": [
    {
     "data": {
      "text/plain": [
       "'Shahriddin'"
      ]
     },
     "execution_count": 46,
     "metadata": {},
     "output_type": "execute_result"
    }
   ],
   "source": [
    "my_list[0]"
   ]
  },
  {
   "cell_type": "code",
   "execution_count": 48,
   "id": "08f41484",
   "metadata": {},
   "outputs": [
    {
     "data": {
      "text/plain": [
       "[1234567, 56.56]"
      ]
     },
     "execution_count": 48,
     "metadata": {},
     "output_type": "execute_result"
    }
   ],
   "source": [
    "my_list[1:] # ikkinchi qatordan ohirigacha korsatadi"
   ]
  },
  {
   "cell_type": "code",
   "execution_count": 49,
   "id": "43f2ddc3",
   "metadata": {},
   "outputs": [],
   "source": [
    "new_list = ['Kecha men dokonga bordim' , '1 kg gosht oldim', 'sabzi', 'piyoz']"
   ]
  },
  {
   "cell_type": "code",
   "execution_count": 50,
   "id": "f6384870",
   "metadata": {},
   "outputs": [],
   "source": [
    "ikkita_list = my_list + new_list"
   ]
  },
  {
   "cell_type": "code",
   "execution_count": 51,
   "id": "d9c94e6a",
   "metadata": {},
   "outputs": [
    {
     "name": "stdout",
     "output_type": "stream",
     "text": [
      "['Shahriddin', 1234567, 56.56, 'Kecha men dokonga bordim', '1 kg gosht oldim', 'sabzi', 'piyoz']\n"
     ]
    }
   ],
   "source": [
    "print(ikkita_list)"
   ]
  },
  {
   "cell_type": "code",
   "execution_count": 52,
   "id": "cb683298",
   "metadata": {},
   "outputs": [
    {
     "data": {
      "text/plain": [
       "['Shahriddin',\n",
       " 1234567,\n",
       " 56.56,\n",
       " 'Kecha men dokonga bordim',\n",
       " '1 kg gosht oldim',\n",
       " 'sabzi',\n",
       " 'piyoz']"
      ]
     },
     "execution_count": 52,
     "metadata": {},
     "output_type": "execute_result"
    }
   ],
   "source": [
    "ikkita_list"
   ]
  },
  {
   "cell_type": "code",
   "execution_count": 53,
   "id": "1c2d5f46",
   "metadata": {},
   "outputs": [
    {
     "data": {
      "text/plain": [
       "list"
      ]
     },
     "execution_count": 53,
     "metadata": {},
     "output_type": "execute_result"
    }
   ],
   "source": [
    "type(ikkita_list)"
   ]
  },
  {
   "cell_type": "code",
   "execution_count": 57,
   "id": "31f0aebb",
   "metadata": {},
   "outputs": [],
   "source": [
    "ikkita_list[0] = \"Korakhanov Shakhriddin\""
   ]
  },
  {
   "cell_type": "code",
   "execution_count": 58,
   "id": "a9fb0ff5",
   "metadata": {},
   "outputs": [
    {
     "data": {
      "text/plain": [
       "['Korakhanov Shakhriddin',\n",
       " 1234567,\n",
       " 56.56,\n",
       " 'Kecha men dokonga bordim',\n",
       " '1 kg gosht oldim',\n",
       " 'sabzi',\n",
       " 'piyoz']"
      ]
     },
     "execution_count": 58,
     "metadata": {},
     "output_type": "execute_result"
    }
   ],
   "source": [
    "ikkita_list"
   ]
  },
  {
   "cell_type": "code",
   "execution_count": 59,
   "id": "16121d71",
   "metadata": {},
   "outputs": [],
   "source": [
    "number_list = [1, 3, 2, 5, 4 ,7 ,6 ,9]"
   ]
  },
  {
   "cell_type": "code",
   "execution_count": 60,
   "id": "742fd250",
   "metadata": {},
   "outputs": [],
   "source": [
    "number_list.sort()"
   ]
  },
  {
   "cell_type": "code",
   "execution_count": 61,
   "id": "e8469a06",
   "metadata": {},
   "outputs": [
    {
     "name": "stdout",
     "output_type": "stream",
     "text": [
      "None\n"
     ]
    }
   ],
   "source": [
    "print(number_list.sort())"
   ]
  },
  {
   "cell_type": "code",
   "execution_count": 62,
   "id": "b336ec88",
   "metadata": {},
   "outputs": [
    {
     "data": {
      "text/plain": [
       "[1, 2, 3, 4, 5, 6, 7, 9]"
      ]
     },
     "execution_count": 62,
     "metadata": {},
     "output_type": "execute_result"
    }
   ],
   "source": [
    "number_list"
   ]
  },
  {
   "cell_type": "code",
   "execution_count": 65,
   "id": "09248d8c",
   "metadata": {},
   "outputs": [],
   "source": [
    "number_list.reverse() # teskari sanoqqa qaytaradi"
   ]
  },
  {
   "cell_type": "code",
   "execution_count": 64,
   "id": "a053738b",
   "metadata": {},
   "outputs": [
    {
     "data": {
      "text/plain": [
       "[9, 7, 6, 5, 4, 3, 2, 1]"
      ]
     },
     "execution_count": 64,
     "metadata": {},
     "output_type": "execute_result"
    }
   ],
   "source": [
    "number_list"
   ]
  },
  {
   "cell_type": "code",
   "execution_count": 68,
   "id": "2387e058",
   "metadata": {},
   "outputs": [],
   "source": [
    "Ist = [0,1,2]"
   ]
  },
  {
   "cell_type": "code",
   "execution_count": 69,
   "id": "99a08731",
   "metadata": {},
   "outputs": [
    {
     "data": {
      "text/plain": [
       "2"
      ]
     },
     "execution_count": 69,
     "metadata": {},
     "output_type": "execute_result"
    }
   ],
   "source": [
    "Ist.pop()"
   ]
  },
  {
   "cell_type": "code",
   "execution_count": null,
   "id": "93510d83",
   "metadata": {},
   "outputs": [],
   "source": []
  }
 ],
 "metadata": {
  "kernelspec": {
   "display_name": "Python 3 (ipykernel)",
   "language": "python",
   "name": "python3"
  },
  "language_info": {
   "codemirror_mode": {
    "name": "ipython",
    "version": 3
   },
   "file_extension": ".py",
   "mimetype": "text/x-python",
   "name": "python",
   "nbconvert_exporter": "python",
   "pygments_lexer": "ipython3",
   "version": "3.9.12"
  }
 },
 "nbformat": 4,
 "nbformat_minor": 5
}
